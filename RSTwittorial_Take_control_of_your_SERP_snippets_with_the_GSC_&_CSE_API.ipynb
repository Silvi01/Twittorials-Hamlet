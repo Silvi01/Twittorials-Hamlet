{
  "nbformat": 4,
  "nbformat_minor": 0,
  "metadata": {
    "colab": {
      "name": "RSTwittorial - Take control of your SERP snippets with the GSC & CSE API.ipynb",
      "provenance": [],
      "collapsed_sections": [],
      "toc_visible": true,
      "authorship_tag": "ABX9TyM9SvDe2VwtXYa1zcFk2s/C",
      "include_colab_link": true
    },
    "kernelspec": {
      "display_name": "Python 3",
      "name": "python3"
    },
    "language_info": {
      "name": "python"
    }
  },
  "cells": [
    {
      "cell_type": "markdown",
      "metadata": {
        "id": "view-in-github",
        "colab_type": "text"
      },
      "source": [
        "<a href=\"https://colab.research.google.com/github/searchsolved/Twittorials/blob/master/RSTwittorial_Take_control_of_your_SERP_snippets_with_the_GSC_%26_CSE_API.ipynb\" target=\"_parent\"><img src=\"https://colab.research.google.com/assets/colab-badge.svg\" alt=\"Open In Colab\"/></a>"
      ]
    },
    {
      "cell_type": "markdown",
      "metadata": {
        "id": "G-fgRjM5X-Iz"
      },
      "source": [
        "# Take control of your SERP snippets with the GSC & CSE API - Overview\n",
        "**Twitter:** @leefootSEO\n",
        "\n",
        "**Web:** https://searchsolved.co.uk\n",
        "\n",
        "**What This Sheet Does**\n",
        "\n",
        "Checks your top keywords in Search Console and Runs them through the Custom Search Engine API to show how you Page Titles and Meta Descriptions are being displayed in the live SERPs. The Google Custom Search API allows for 100 free searches per day. Paid accounts are only limited by budget.\n",
        "\n",
        "**Process:**\n",
        "1.  Pull Keyword Data from GSC\n",
        "2.  Run Keywords through Custom Search Engine\n",
        "3.  Run Pull Live Description and Title using Requests\n",
        "\n",
        "**Authentication Files Required**\n",
        "\n",
        "1.   client_secrets.json (Google Search Console)\n",
        "2.   CSE Developer Key (Google Custom Search API Developer Key)\n",
        "3.   Get Search Engine Code (Called a cx ID)"
      ]
    },
    {
      "cell_type": "markdown",
      "metadata": {
        "id": "pD5E-Qi84mxo"
      },
      "source": [
        "# Getting the CSE Developer Key - Free for 100 Searches per day or $5 per 1,000\n",
        "\n",
        "Get a Key: https://developers.google.com/custom-search/v1/introduction\n",
        "\n",
        "Step 1.  Click *Get a key*\n",
        "\n",
        "![](https://drive.google.com/uc?export=view&id=1R2V0ohHm5xnFuW9Rxd42IsWGQaHAkeOH)\n",
        "\n",
        "Step 2.  Choose *Create a new project*\n",
        "\n",
        "![](https://drive.google.com/uc?export=view&id=1p-y6ikGsbjHdaHeIa2w4xVt19ZA4LXFX)\n",
        "\n",
        "Step 3.  Give your project a name and click on next\n",
        "\n",
        "![](https://drive.google.com/uc?export=view&id=1jiice1JVcpWZs4VSYGI87Hjr7k83g25z)\n",
        "\n",
        "Step 4.  Copy the API key to a txt file and you're done!\n",
        "\n",
        "![](https://drive.google.com/uc?export=view&id=1PK_ek_2EtYB4hZysJtYnxNp7Kvl8anpa)\n"
      ]
    },
    {
      "cell_type": "markdown",
      "metadata": {
        "id": "1WXsrInDbyw5"
      },
      "source": [
        "# How to Get a CX ID \n",
        "\n",
        "Step 1. Visit: https://cse.google.com/all to get the cx_id\n",
        "\n",
        "Step 2. Click *Add* undernearth Edit Search Engines\n",
        "\n",
        "![](https://drive.google.com/uc?export=view&id=1jqhwvqjQeaBa42uKEz2DU022G7ARpizf)\n",
        "\n",
        "Step 3. Add Your Site or Domain in *Sites to Search*.\n",
        "\n",
        "![](https://drive.google.com/uc?export=view&id=1TjZjOeuZVplouLAbkP5dnrmEvAhKQf7r)\n",
        "\n",
        "Step 4. Click *Edit Search Engine* and *Setup*.\n",
        "![](https://drive.google.com/uc?export=view&id=1_umglyOBMNai9aijEf2djWcmfx5L80vL)\n",
        "\n",
        "Step 5. Search Engine ID = cx_id \n",
        "Copy and save to a txt file ready to upload.\n",
        "![](https://drive.google.com/uc?export=view&id=1iEKvCQFUAX7JL0ILMiqGovHKSWhzvZJc)\n",
        "\n"
      ]
    },
    {
      "cell_type": "markdown",
      "metadata": {
        "id": "j38vLPPCx0Cs"
      },
      "source": [
        "# How to Get the client_secrets.json file\n",
        "If this is your first time then there's a lot of steps to get done before actually getting to the code. (This only has to be done once, or until they change the process again!)\n",
        "\n",
        "First, you need to login to [Developer Console](https://console.developers.google.com) and create a project:\n",
        "\n",
        "![](https://drive.google.com/uc?export=view&id=1lS_yN4xg9JWKpAbKSkx0asERoEM84l3q)\n",
        "\n",
        "If you haven't already, create a new project:\n",
        "\n",
        "![](https://drive.google.com/uc?export=view&id=1bdwxodrrMJd0ILphGPCvsnI37oZiGHDJ)\n",
        "\n",
        "Name the project:\n",
        "\n",
        "![](https://drive.google.com/uc?export=view&id=1UFW5-m-N0zFVBZXsvlp5f8bacMaHOO2J)\n",
        "\n",
        "You'll need to find the specific API you want to enable. I've gotten lost trying to find which button will take you to the API library, so [here's the link instead](https://console.developers.google.com/apis/library). When you've found the API you're looking for, click the `Enable` button.\n",
        "\n",
        "![](https://drive.google.com/uc?export=view&id=1zm8aDecrgexUi0Q_uhQTsofA8RVhNapK)\n",
        "\n",
        "Since I'll be demonstrating an Oauth verification flow, you'll need to create a consent screen:\n",
        "\n",
        "![](https://drive.google.com/uc?export=view&id=1N2EsDZWKIg6Fd-R-453OCasDoBZiSnCG)\n",
        "\n",
        "There's a dozen fields or so, but only one field in particular matters: the application name. Give it some generic name (but make sure not to include anything related to Google in the name field). You can scoll down to the bottom of the screen and click the Save button.\n",
        "\n",
        "![](https://drive.google.com/uc?export=view&id=1uNEppkT8w9oS7MDJuvGUGs_vHC5hOSon)\n",
        "\n",
        "Almost there. Create the credentials; I've selected the OAuth option.\n",
        "\n",
        "![](https://drive.google.com/uc?export=view&id=1BKTrx7lj9Fhie5fKdy1bEV_zpgVJGlt9)\n",
        "\n",
        "Again, create a generic name, this time for the credentials themselves. One really, really important note: when I use Jupyter Lab on my Macbook Pro, when it starts up I get a notice that port `8888` is already in use, so instead it moves to port `8889`...you'll need to specifiy an unused port here in the \"Authorized redirect URIs\" _and_ remember the port because you'll use it again in the code below. In my case, port `8080` works:\n",
        "\n",
        "![](https://drive.google.com/uc?export=view&id=1aZ7mMOi-JFod6oyNmQ95eB3k5vp08nhj)\n",
        "\n",
        "Now download the client secrets, and rename to `client_secrets.json` and move the file to the folder you'll access in the code.\n",
        "\n",
        "![](https://drive.google.com/uc?export=view&id=1jukQoChyxYuZ00hFYT4E-1wN93sUVctc)\n",
        "\n",
        "Instructions taken from this super helpful Google Colab: https://colab.research.google.com/github/msure/notebooks/blob/master/_notebooks/2020-05-17-google-search-console-via-python.ipynb (\"Access Search Console Data via Python\")"
      ]
    },
    {
      "cell_type": "code",
      "metadata": {
        "id": "IiSqSoo5YC98",
        "colab": {
          "base_uri": "https://localhost:8080/"
        },
        "outputId": "ee17b157-4355-4d60-b0ca-2b853d498090"
      },
      "source": [
        "!pip install pandas\n",
        "!pip install git+https://github.com/joshcarty/google-searchconsole\n",
        "!pip install install beautifulsoup4\n",
        "print(\"Installed all packages!\")"
      ],
      "execution_count": null,
      "outputs": [
        {
          "output_type": "stream",
          "text": [
            "Requirement already satisfied: pandas in /usr/local/lib/python3.7/dist-packages (1.1.5)\n",
            "Requirement already satisfied: numpy>=1.15.4 in /usr/local/lib/python3.7/dist-packages (from pandas) (1.19.5)\n",
            "Requirement already satisfied: python-dateutil>=2.7.3 in /usr/local/lib/python3.7/dist-packages (from pandas) (2.8.1)\n",
            "Requirement already satisfied: pytz>=2017.2 in /usr/local/lib/python3.7/dist-packages (from pandas) (2018.9)\n",
            "Requirement already satisfied: six>=1.5 in /usr/local/lib/python3.7/dist-packages (from python-dateutil>=2.7.3->pandas) (1.15.0)\n",
            "Collecting git+https://github.com/joshcarty/google-searchconsole\n",
            "  Cloning https://github.com/joshcarty/google-searchconsole to /tmp/pip-req-build-rbaufslv\n",
            "  Running command git clone -q https://github.com/joshcarty/google-searchconsole /tmp/pip-req-build-rbaufslv\n",
            "Requirement already satisfied (use --upgrade to upgrade): searchconsole==0.0.3 from git+https://github.com/joshcarty/google-searchconsole in /usr/local/lib/python3.7/dist-packages\n",
            "Requirement already satisfied: google-api-python-client>=1.7.3 in /usr/local/lib/python3.7/dist-packages (from searchconsole==0.0.3) (1.12.8)\n",
            "Requirement already satisfied: python-dateutil>=2.7.3 in /usr/local/lib/python3.7/dist-packages (from searchconsole==0.0.3) (2.8.1)\n",
            "Requirement already satisfied: google-auth<2dev,>=1.5.0 in /usr/local/lib/python3.7/dist-packages (from searchconsole==0.0.3) (1.28.1)\n",
            "Requirement already satisfied: google-auth-oauthlib>=0.2.0 in /usr/local/lib/python3.7/dist-packages (from searchconsole==0.0.3) (0.4.4)\n",
            "Requirement already satisfied: google-api-core<2dev,>=1.21.0 in /usr/local/lib/python3.7/dist-packages (from google-api-python-client>=1.7.3->searchconsole==0.0.3) (1.26.3)\n",
            "Requirement already satisfied: google-auth-httplib2>=0.0.3 in /usr/local/lib/python3.7/dist-packages (from google-api-python-client>=1.7.3->searchconsole==0.0.3) (0.0.4)\n",
            "Requirement already satisfied: six<2dev,>=1.13.0 in /usr/local/lib/python3.7/dist-packages (from google-api-python-client>=1.7.3->searchconsole==0.0.3) (1.15.0)\n",
            "Requirement already satisfied: httplib2<1dev,>=0.15.0 in /usr/local/lib/python3.7/dist-packages (from google-api-python-client>=1.7.3->searchconsole==0.0.3) (0.17.4)\n",
            "Requirement already satisfied: uritemplate<4dev,>=3.0.0 in /usr/local/lib/python3.7/dist-packages (from google-api-python-client>=1.7.3->searchconsole==0.0.3) (3.0.1)\n",
            "Requirement already satisfied: pyasn1-modules>=0.2.1 in /usr/local/lib/python3.7/dist-packages (from google-auth<2dev,>=1.5.0->searchconsole==0.0.3) (0.2.8)\n",
            "Requirement already satisfied: rsa<5,>=3.1.4; python_version >= \"3.6\" in /usr/local/lib/python3.7/dist-packages (from google-auth<2dev,>=1.5.0->searchconsole==0.0.3) (4.7.2)\n",
            "Requirement already satisfied: cachetools<5.0,>=2.0.0 in /usr/local/lib/python3.7/dist-packages (from google-auth<2dev,>=1.5.0->searchconsole==0.0.3) (4.2.1)\n",
            "Requirement already satisfied: setuptools>=40.3.0 in /usr/local/lib/python3.7/dist-packages (from google-auth<2dev,>=1.5.0->searchconsole==0.0.3) (56.0.0)\n",
            "Requirement already satisfied: requests-oauthlib>=0.7.0 in /usr/local/lib/python3.7/dist-packages (from google-auth-oauthlib>=0.2.0->searchconsole==0.0.3) (1.3.0)\n",
            "Requirement already satisfied: pytz in /usr/local/lib/python3.7/dist-packages (from google-api-core<2dev,>=1.21.0->google-api-python-client>=1.7.3->searchconsole==0.0.3) (2018.9)\n",
            "Requirement already satisfied: packaging>=14.3 in /usr/local/lib/python3.7/dist-packages (from google-api-core<2dev,>=1.21.0->google-api-python-client>=1.7.3->searchconsole==0.0.3) (20.9)\n",
            "Requirement already satisfied: googleapis-common-protos<2.0dev,>=1.6.0 in /usr/local/lib/python3.7/dist-packages (from google-api-core<2dev,>=1.21.0->google-api-python-client>=1.7.3->searchconsole==0.0.3) (1.53.0)\n",
            "Requirement already satisfied: protobuf>=3.12.0 in /usr/local/lib/python3.7/dist-packages (from google-api-core<2dev,>=1.21.0->google-api-python-client>=1.7.3->searchconsole==0.0.3) (3.12.4)\n",
            "Requirement already satisfied: requests<3.0.0dev,>=2.18.0 in /usr/local/lib/python3.7/dist-packages (from google-api-core<2dev,>=1.21.0->google-api-python-client>=1.7.3->searchconsole==0.0.3) (2.23.0)\n",
            "Requirement already satisfied: pyasn1<0.5.0,>=0.4.6 in /usr/local/lib/python3.7/dist-packages (from pyasn1-modules>=0.2.1->google-auth<2dev,>=1.5.0->searchconsole==0.0.3) (0.4.8)\n",
            "Requirement already satisfied: oauthlib>=3.0.0 in /usr/local/lib/python3.7/dist-packages (from requests-oauthlib>=0.7.0->google-auth-oauthlib>=0.2.0->searchconsole==0.0.3) (3.1.0)\n",
            "Requirement already satisfied: pyparsing>=2.0.2 in /usr/local/lib/python3.7/dist-packages (from packaging>=14.3->google-api-core<2dev,>=1.21.0->google-api-python-client>=1.7.3->searchconsole==0.0.3) (2.4.7)\n",
            "Requirement already satisfied: urllib3!=1.25.0,!=1.25.1,<1.26,>=1.21.1 in /usr/local/lib/python3.7/dist-packages (from requests<3.0.0dev,>=2.18.0->google-api-core<2dev,>=1.21.0->google-api-python-client>=1.7.3->searchconsole==0.0.3) (1.24.3)\n",
            "Requirement already satisfied: chardet<4,>=3.0.2 in /usr/local/lib/python3.7/dist-packages (from requests<3.0.0dev,>=2.18.0->google-api-core<2dev,>=1.21.0->google-api-python-client>=1.7.3->searchconsole==0.0.3) (3.0.4)\n",
            "Requirement already satisfied: idna<3,>=2.5 in /usr/local/lib/python3.7/dist-packages (from requests<3.0.0dev,>=2.18.0->google-api-core<2dev,>=1.21.0->google-api-python-client>=1.7.3->searchconsole==0.0.3) (2.10)\n",
            "Requirement already satisfied: certifi>=2017.4.17 in /usr/local/lib/python3.7/dist-packages (from requests<3.0.0dev,>=2.18.0->google-api-core<2dev,>=1.21.0->google-api-python-client>=1.7.3->searchconsole==0.0.3) (2020.12.5)\n",
            "Building wheels for collected packages: searchconsole\n",
            "  Building wheel for searchconsole (setup.py) ... \u001b[?25l\u001b[?25hdone\n",
            "  Created wheel for searchconsole: filename=searchconsole-0.0.3-cp37-none-any.whl size=8799 sha256=4a2a91b5c46c1e004382b5e57a32c02ee797b884638712401115e538bff00b8f\n",
            "  Stored in directory: /tmp/pip-ephem-wheel-cache-q183e0ob/wheels/eb/d4/d2/b374d767a5df3b100a2302f2dadcd170a487d48abe626c3f09\n",
            "Successfully built searchconsole\n",
            "Requirement already satisfied: install in /usr/local/lib/python3.7/dist-packages (1.3.4)\n",
            "Requirement already satisfied: beautifulsoup4 in /usr/local/lib/python3.7/dist-packages (4.6.3)\n",
            "Installed all packages!\n"
          ],
          "name": "stdout"
        }
      ]
    },
    {
      "cell_type": "code",
      "metadata": {
        "id": "owVFrDivYDqt",
        "colab": {
          "base_uri": "https://localhost:8080/"
        },
        "outputId": "d4919ba3-48ca-45e8-be7a-afee24658ba9"
      },
      "source": [
        "# import the libraries\n",
        "import time\n",
        "import json\n",
        "import sys\n",
        "import pandas as pd\n",
        "import searchconsole\n",
        "from googleapiclient.discovery import build\n",
        "from urllib import request\n",
        "from bs4 import BeautifulSoup\n",
        "from google.colab import files\n",
        "from urllib.request import Request, urlopen\n",
        "print(\"Imported the libraries!\")"
      ],
      "execution_count": null,
      "outputs": [
        {
          "output_type": "stream",
          "text": [
            "Imported the libraries!\n"
          ],
          "name": "stdout"
        }
      ]
    },
    {
      "cell_type": "markdown",
      "metadata": {
        "id": "oAGFWu-TaUoR"
      },
      "source": [
        "# Upload the CSE Dev Key File\n"
      ]
    },
    {
      "cell_type": "code",
      "metadata": {
        "id": "EQ_rrhaRYFoh",
        "colab": {
          "resources": {
            "http://localhost:8080/nbextensions/google.colab/files.js": {
              "data": "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",
              "ok": true,
              "headers": [
                [
                  "content-type",
                  "application/javascript"
                ]
              ],
              "status": 200,
              "status_text": ""
            }
          },
          "base_uri": "https://localhost:8080/",
          "height": 72
        },
        "outputId": "0f97236b-f9a9-48fa-b716-d3c24828dd2d"
      },
      "source": [
        "# upload the cse dev key\n",
        "from google.colab import files\n",
        "cse_key_up = files.upload()\n",
        "# read the contents and parse the data of the CSE Dev Key\n",
        "filename=list(cse_key_up.keys())[0]  # gets the uploaded file name\n",
        "with open(filename, 'r') as f: \n",
        "  cse_key = f.read()"
      ],
      "execution_count": null,
      "outputs": [
        {
          "output_type": "display_data",
          "data": {
            "text/html": [
              "\n",
              "     <input type=\"file\" id=\"files-2db01cb0-f75d-4a4b-a5ad-f4e17db54ffa\" name=\"files[]\" multiple disabled\n",
              "        style=\"border:none\" />\n",
              "     <output id=\"result-2db01cb0-f75d-4a4b-a5ad-f4e17db54ffa\">\n",
              "      Upload widget is only available when the cell has been executed in the\n",
              "      current browser session. Please rerun this cell to enable.\n",
              "      </output>\n",
              "      <script src=\"/nbextensions/google.colab/files.js\"></script> "
            ],
            "text/plain": [
              "<IPython.core.display.HTML object>"
            ]
          },
          "metadata": {
            "tags": []
          }
        },
        {
          "output_type": "stream",
          "text": [
            "Saving cse-dev-key.txt to cse-dev-key.txt\n"
          ],
          "name": "stdout"
        }
      ]
    },
    {
      "cell_type": "markdown",
      "metadata": {
        "id": "T1lz5vihaU-4"
      },
      "source": [
        "# Upload the cx_id File\n",
        "\n"
      ]
    },
    {
      "cell_type": "code",
      "metadata": {
        "id": "sKjr--fRYFwA",
        "colab": {
          "resources": {
            "http://localhost:8080/nbextensions/google.colab/files.js": {
              "data": "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",
              "ok": true,
              "headers": [
                [
                  "content-type",
                  "application/javascript"
                ]
              ],
              "status": 200,
              "status_text": ""
            }
          },
          "base_uri": "https://localhost:8080/",
          "height": 72
        },
        "outputId": "31270453-bf8b-4b94-c4f0-e333dd820b51"
      },
      "source": [
        "# upload cx_id file\n",
        "from google.colab import files\n",
        "cx_id_up = files.upload()\n",
        "# read the contents and parse the data of the cx_id file\n",
        "filename=list(cx_id_up.keys())[0]  # gets the uploaded file name\n",
        "with open(filename, 'r') as f: \n",
        "  cx_id = f.read()"
      ],
      "execution_count": null,
      "outputs": [
        {
          "output_type": "display_data",
          "data": {
            "text/html": [
              "\n",
              "     <input type=\"file\" id=\"files-48eb9604-99d6-4c28-bad1-bf9bb1d70823\" name=\"files[]\" multiple disabled\n",
              "        style=\"border:none\" />\n",
              "     <output id=\"result-48eb9604-99d6-4c28-bad1-bf9bb1d70823\">\n",
              "      Upload widget is only available when the cell has been executed in the\n",
              "      current browser session. Please rerun this cell to enable.\n",
              "      </output>\n",
              "      <script src=\"/nbextensions/google.colab/files.js\"></script> "
            ],
            "text/plain": [
              "<IPython.core.display.HTML object>"
            ]
          },
          "metadata": {
            "tags": []
          }
        },
        {
          "output_type": "stream",
          "text": [
            "Saving cx-id-2.txt to cx-id-2.txt\n"
          ],
          "name": "stdout"
        }
      ]
    },
    {
      "cell_type": "markdown",
      "metadata": {
        "id": "zGrv6giWaVIu"
      },
      "source": [
        "# Upload the client_secrets.json file\n",
        "Please note: The file name can be anything, as long as it's the right file from the instructions. "
      ]
    },
    {
      "cell_type": "code",
      "metadata": {
        "id": "cnFSRXkIYFzp",
        "colab": {
          "resources": {
            "http://localhost:8080/nbextensions/google.colab/files.js": {
              "data": "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",
              "ok": true,
              "headers": [
                [
                  "content-type",
                  "application/javascript"
                ]
              ],
              "status": 200,
              "status_text": ""
            }
          },
          "base_uri": "https://localhost:8080/",
          "height": 72
        },
        "outputId": "fb8b759c-b41c-481f-e010-236c9503e94c"
      },
      "source": [
        "# upload client_id.json\n",
        "from google.colab import files\n",
        "names = files.upload()"
      ],
      "execution_count": null,
      "outputs": [
        {
          "output_type": "display_data",
          "data": {
            "text/html": [
              "\n",
              "     <input type=\"file\" id=\"files-9911f4b5-9250-4f37-b07e-a4231989197b\" name=\"files[]\" multiple disabled\n",
              "        style=\"border:none\" />\n",
              "     <output id=\"result-9911f4b5-9250-4f37-b07e-a4231989197b\">\n",
              "      Upload widget is only available when the cell has been executed in the\n",
              "      current browser session. Please rerun this cell to enable.\n",
              "      </output>\n",
              "      <script src=\"/nbextensions/google.colab/files.js\"></script> "
            ],
            "text/plain": [
              "<IPython.core.display.HTML object>"
            ]
          },
          "metadata": {
            "tags": []
          }
        },
        {
          "output_type": "stream",
          "text": [
            "Saving client_secrets-named-anything.json to client_secrets-named-anything.json\n"
          ],
          "name": "stdout"
        }
      ]
    },
    {
      "cell_type": "markdown",
      "metadata": {
        "id": "prEOCYsia57C"
      },
      "source": [
        "# Login to Authorise GSC and Paste in Auth Code\n",
        "\n",
        "\n",
        "\n"
      ]
    },
    {
      "cell_type": "code",
      "metadata": {
        "id": "QbI0XvcHYF4x",
        "colab": {
          "base_uri": "https://localhost:8080/"
        },
        "outputId": "42c71b8a-5229-4011-b549-cce622aa0bcf"
      },
      "source": [
        "filename=list(names.keys())[0]  # get the name of the uploaded file\n",
        "account = searchconsole.authenticate(client_config=filename, serialize='credentials.json', flow=\"console\")"
      ],
      "execution_count": null,
      "outputs": [
        {
          "output_type": "stream",
          "text": [
            "Please visit this URL to authorize this application: https://accounts.google.com/o/oauth2/auth?response_type=code&client_id=158373752154-17ek6obhi20i05iae25k1a7b3gdbt4if.apps.googleusercontent.com&redirect_uri=urn%3Aietf%3Awg%3Aoauth%3A2.0%3Aoob&scope=https%3A%2F%2Fwww.googleapis.com%2Fauth%2Fwebmasters.readonly&state=yW6SxqftQUo0ANqVImRrXmX0qvhnr4&prompt=consent&access_type=offline\n",
            "Enter the authorization code: 4/1AY0e-g7YcXeEwB9Q4oD3LHO3rGjGfAK_dL1dY3_AlNNErUkUW7mxj4O0rFo\n"
          ],
          "name": "stdout"
        }
      ]
    },
    {
      "cell_type": "markdown",
      "metadata": {
        "id": "JIguaPp6aVY5"
      },
      "source": [
        "# Print the List of Available Search Console Properties\n"
      ]
    },
    {
      "cell_type": "code",
      "metadata": {
        "id": "fK2QyLmMYF6_"
      },
      "source": [
        "# uncomment to get a list of the available search properties\n",
        "#print(account.webproperties)"
      ],
      "execution_count": null,
      "outputs": []
    },
    {
      "cell_type": "markdown",
      "metadata": {
        "id": "6hBWFA6paVQY"
      },
      "source": [
        "# Set the GSC Variables Below!\n",
        "\n",
        "*   The Number of Keywords to Analyse\n",
        "*   Country Filter (Uses 3-letter country code)\n",
        "*   The Number of Keywords from Search Console to Check in the Live SERPs\n",
        "*   The Domain Name as Shown in Search Console\n",
        "*   Start / End Date Range\n",
        "\n",
        "List of 3-letter country codes https://en.wikipedia.org/wiki/ISO_3166-1_alpha-3"
      ]
    },
    {
      "cell_type": "code",
      "metadata": {
        "id": "1ApugNBM_DK6",
        "colab": {
          "base_uri": "https://localhost:8080/"
        },
        "outputId": "1fb0144c-393d-4dc5-91e8-70a25217ccb9"
      },
      "source": [
        "# Set GSC Variables Here:\n",
        "country_filter = \"gbr\"\n",
        "top_gsc_kws = 40   # number of keywords to use from gsc - Free for 100 KWs per day\n",
        "url = \"https://www.weldingandwelder.com/\" # Must match SC URL Exactly - print the available accounts in the cell above if unsure! - Usually just missing a trailing /\n",
        "start_date = \"2021-01-01\"  # Example formatting: '2020-09-20'\n",
        "end_date = \"2021-03-31\"\n",
        "print(\"All GSC Variables Set!\")\n",
        "print(\"Searching Top\", top_gsc_kws, \"Keywords\")"
      ],
      "execution_count": null,
      "outputs": [
        {
          "output_type": "stream",
          "text": [
            "All GSC Variables Set!\n",
            "Searching Top 10 Keywords\n"
          ],
          "name": "stdout"
        }
      ]
    },
    {
      "cell_type": "markdown",
      "metadata": {
        "id": "SgF73G6baVUi"
      },
      "source": [
        "# Set the Custom Search Engine API Variables Below!\n",
        "\n",
        "\n",
        "*   Language = The Language of the Google Search Engine\n",
        "*   Geolocation = The GeoLocation of the Google Search Engine\n",
        "*   Set The Number of Pages to Check (1 = First Page of Google Only)\n",
        "*   Set the Search Result Page To Start From\n",
        "*   Note each page counts as a search query. Checking x10 KWs over 10 Pages = 100 Queries.\n",
        "\n",
        "List of Geo Location Codes: https://developers.google.com/custom-search/docs/xml_results_appendices?hl=ro#countryCodes\n"
      ]
    },
    {
      "cell_type": "code",
      "metadata": {
        "id": "hh_2fC8LYF_a",
        "colab": {
          "base_uri": "https://localhost:8080/"
        },
        "outputId": "584fe81d-e01a-4d49-d285-f8fb3c29017b"
      },
      "source": [
        "# Set CSE Variables Here:\n",
        "language = 'lang_en'  # Search language\n",
        "geolocation = 'uk'  # Set the Geolocation\n",
        "page_limit = 1  # how many pages to check in Google\n",
        "start_page = 1  # Page to start on in Google\n",
        "print(\"All CSE Variables Set!\")"
      ],
      "execution_count": null,
      "outputs": [
        {
          "output_type": "stream",
          "text": [
            "All CSE Variables Set!\n"
          ],
          "name": "stdout"
        }
      ]
    },
    {
      "cell_type": "code",
      "metadata": {
        "id": "LlHMVNZVYGCB",
        "colab": {
          "base_uri": "https://localhost:8080/"
        },
        "outputId": "715e2171-5f00-40f6-84ac-9b5a10b7f9ac"
      },
      "source": [
        "# error checking routine\n",
        "if page_limit > 10:\n",
        "  print(\"Page limit must be 10 or less! Please reduce the number!\\n\")\n",
        "  sys.exit(1)\n",
        "if start_page > 10:\n",
        "  print(\"Start must be 10 or less! Please reduce the number!\\n\")\n",
        "  sys.exit(1)\n",
        "\n",
        "#print variables\n",
        "print(\"Language: \", language)\n",
        "print(\"Geolocation: \", geolocation)\n",
        "print(\"Page Limit: \", page_limit)\n",
        "print(\"Starting Page: \", start_page)\n",
        "\n",
        "# calculate how many credits are being used\n",
        "credits = top_gsc_kws * page_limit\n",
        "\n",
        "if credits > 100:\n",
        "  print(\"\\nWARNING: This will use\", credits, \"credits!\", credits - 100, \"more than the 100 free CSE searches per day! Consider a paid account..\")\n",
        "else:\n",
        "  print(\"\\nThis will use\", credits, \"credits!\")"
      ],
      "execution_count": null,
      "outputs": [
        {
          "output_type": "stream",
          "text": [
            "Language:  lang_en\n",
            "Geolocation:  uk\n",
            "Page Limit:  1\n",
            "Starting Page:  1\n",
            "\n",
            "This will use 10 credits!\n"
          ],
          "name": "stdout"
        }
      ]
    },
    {
      "cell_type": "markdown",
      "metadata": {
        "id": "ouLkPCq5a6gi"
      },
      "source": [
        "# Authenticate with Search Console API"
      ]
    },
    {
      "cell_type": "code",
      "metadata": {
        "id": "nrZou6efYGD-",
        "colab": {
          "base_uri": "https://localhost:8080/"
        },
        "outputId": "a10edbde-a151-4d6a-a573-c85f8ef9fa65"
      },
      "source": [
        "# Assign values to dimension variables\n",
        "dimension_1 = \"query\"  # get keyword data from Search Console\n",
        "dimension_2 = \"page\"  # get URL data from Search Console\n",
        "dimension_3 = \"country\"  # get country data from Search Console\n",
        "dimension_4 = \"device\"  # Get device data from Search Console\n",
        "available_accounts = account.webproperties  # store available accounts in a var to print if issues\n",
        "\n",
        "try:\n",
        "    print(\"Reading client_secrets.json & credentials.json..\")  # Authenticate with GSC\n",
        "    account = searchconsole.authenticate(\n",
        "        client_config = filename,\n",
        "        credentials = 'credentials.json',\n",
        "    )\n",
        "    webproperty = account[(url)]  # Connect to the GSC property\n",
        "    print(\"Pulling GSC Data. Please Be Patient!\")\n",
        "    gsc_data = (\n",
        "        webproperty.query.range(start_date, end_date)\n",
        "            .dimension(\n",
        "            dimension_1,\n",
        "            dimension_2,\n",
        "            dimension_3,\n",
        "            # dimension_4,  # Dimensions can be commented out, like this one.\n",
        "        )\n",
        "            .get()\n",
        "    )\n",
        "except AttributeError:\n",
        "    print(\"No Data Received from Search Console API! - Check the site name matches Search Console exactly!\\nAvailable accounts: \\n\", available_accounts)\n",
        "    sys.exit(1)\n",
        "print(\"\\nGSC Data Pull Complete!\")\n",
        "\n",
        "# make the GSC dataframe\n",
        "df_gsc_data = pd.DataFrame(gsc_data)\n",
        "#print(df_gsc_data.head(top_gsc_kws))\n",
        "print(df_gsc_data)"
      ],
      "execution_count": null,
      "outputs": [
        {
          "output_type": "stream",
          "text": [
            "Reading client_secrets.json & credentials.json..\n",
            "Pulling GSC Data. Please Be Patient!\n",
            "\n",
            "GSC Data Pull Complete!\n",
            "                      query  ...    position\n",
            "0        welding and welder  ...    1.346821\n",
            "1              welding tent  ...    2.809524\n",
            "2             welding bench  ...    8.638647\n",
            "3               flange pins  ...    3.076190\n",
            "4             flange square  ...    4.287425\n",
            "...                     ...  ...         ...\n",
            "185521           پیپ در طلا  ...  100.000000\n",
            "185522          چکش جوشکاری  ...   55.000000\n",
            "185523  गैस कटिंग नोजल साइज  ...   28.000000\n",
            "185524               वेल्डर  ...    9.000000\n",
            "185525    ছেলেদের এক্স এক্স  ...   67.000000\n",
            "\n",
            "[185526 rows x 7 columns]\n"
          ],
          "name": "stdout"
        }
      ]
    },
    {
      "cell_type": "markdown",
      "metadata": {
        "id": "qIpTUhjXbu4E"
      },
      "source": [
        "# Clean and Refine the Data\n",
        "Filters and sorts data based on variables set. Sorts by highest impressions, removes special characters and creates a list to be checked through the CSE API."
      ]
    },
    {
      "cell_type": "code",
      "metadata": {
        "id": "oUS6xsCQYVmA",
        "colab": {
          "base_uri": "https://localhost:8080/"
        },
        "outputId": "309adcdb-3112-4fa5-a12d-583c76c8f719"
      },
      "source": [
        "df_gsc_data = df_gsc_data[df_gsc_data[\"country\"].str.contains(country_filter)]  # keep only country specific traffic\n",
        "df_gsc_data = df_gsc_data.sort_values(by=\"impressions\", ascending=False)  # sort by highest impressions\n",
        "df_gsc_data.drop_duplicates(subset=\"query\", inplace=True)  # drop duplicate queries (keeping query with highest impressions)\n",
        "row_count = df_gsc_data.shape[0]  # count the number of rows\n",
        "df_gsc_data['row_nums'] = range(0, row_count)  # make a new column to number the rows so that only the top X Rows can be kept\n",
        "top_gsc_kws = top_gsc_kws - 1  # subtract -1 from the specified # of GSC KWs to Use (Because index starts at 0)\n",
        "df_gsc_data = df_gsc_data[~(df_gsc_data['row_nums'] > top_gsc_kws)]  # keep first X rows (Drop rows over X rows)\n",
        "df_gsc_data['query'] = df_gsc_data['query'].str.replace(r\"[^a-zA-Z ]+\", \" \").str.strip()  # strip out special characters\n",
        "search_terms = df_gsc_data['query'].tolist()  # dump search term queries to a list (to loop through with the Search Console API)\n",
        "list_appended_data = []  # create an empty list to append data to from the loop\n",
        "print(df_gsc_data)\n",
        "print(\"\\nCleaned the Data & Sorted by The Top GSC Queries!\")"
      ],
      "execution_count": null,
      "outputs": [
        {
          "output_type": "stream",
          "text": [
            "                          query  ... row_nums\n",
            "6                       welding  ...        0\n",
            "110           welding equipment  ...        1\n",
            "50             welding supplies  ...        2\n",
            "178442  welding supplies online  ...        3\n",
            "2                 welding bench  ...        4\n",
            "46                       welder  ...        5\n",
            "1534             welding gloves  ...        6\n",
            "80                      gas arc  ...        7\n",
            "7              tungsten grinder  ...        8\n",
            "5              welding trousers  ...        9\n",
            "\n",
            "[10 rows x 8 columns]\n",
            "\n",
            "Cleaned the Data & Sorted by The Top GSC Queries!\n"
          ],
          "name": "stdout"
        }
      ]
    },
    {
      "cell_type": "markdown",
      "metadata": {
        "id": "QbcB0PWmbzWe"
      },
      "source": [
        "# Loop Through the GSC Keyword List using the Custom Search API API\n",
        "Accessing Nested Dictionary Keys with Python: https://www.youtube.com/watch?v=oQfNYqz8pLs&t=502s"
      ]
    },
    {
      "cell_type": "code",
      "metadata": {
        "id": "5cO67UKTYVpQ",
        "colab": {
          "base_uri": "https://localhost:8080/"
        },
        "outputId": "98965239-ae93-47ab-87d9-6f25ac9c61ed"
      },
      "source": [
        "def getService():\n",
        "    service = build(\"customsearch\", \"v1\",\n",
        "                    developerKey=cse_key)\n",
        "    return service\n",
        "\n",
        "\n",
        "df_appended_data = []\n",
        "\n",
        "search_terms = df_gsc_data['query'].tolist()\n",
        "print(\"Extracting SERPs via CSE API ..\")\n",
        "get_len = len(search_terms)\n",
        "data_counter = 0\n",
        "for i in search_terms:\n",
        "    print(i)\n",
        "    data_counter = data_counter +1\n",
        "    print(data_counter,\"/\", get_len)\n",
        "    time.sleep(1)\n",
        "\n",
        "    pageLimit = page_limit\n",
        "    service = getService()\n",
        "    startIndex = start_page\n",
        "    response = []\n",
        "    link_list = []\n",
        "    display_link_list = []\n",
        "    title_list = []\n",
        "    snippet_list = []\n",
        "    position_list = []\n",
        "\n",
        "    for nPage in range(0, pageLimit):\n",
        "        print(\"Reading page number:\", nPage + 1)\n",
        "\n",
        "        response.append(service.cse().list(\n",
        "            q=i,  # Search words\n",
        "            cx=cx_id,  # CSE Key\n",
        "            lr=language,  # Search language\n",
        "            gl=geolocation,  # Set the Geolocation\n",
        "            start=startIndex\n",
        "        ).execute())\n",
        "        try:\n",
        "          startIndex = response[nPage].get(\"queries\").get(\"nextPage\")[0].get(\"startIndex\")\n",
        "        except Exception:\n",
        "          print(\"Error Pulling Data!\")\n",
        "          pass\n",
        "\n",
        "    with open('data.json', 'w') as outfile:\n",
        "        json.dump(response, outfile)\n",
        "        for main_dict in response:\n",
        "            print('')  # print main_dict variable to see all keys\n",
        "\n",
        "        for item_access in main_dict['items']:\n",
        "            link = item_access['link']  # Access Keys Here / ['snippet'] / ['link'] etc\n",
        "            link_list.append(link)\n",
        "            \n",
        "        # make new dataframe\n",
        "        df = pd.DataFrame(None)\n",
        "        df['Ranking URL'] = link_list\n",
        "\n",
        "        for item_access in main_dict['items']:\n",
        "            title = item_access['title']  # Access Keys Here / ['snippet'] / ['link'] etc\n",
        "            title_list.append(title)\n",
        "\n",
        "        df['SERP Page Title'] = title_list\n",
        "\n",
        "        try:\n",
        "            for item_access in main_dict['items']:\n",
        "                snippet = item_access['snippet']  # Access Keys Here / ['snippet'] / ['link'] etc\n",
        "                snippet_list.append(snippet)\n",
        "            df['SERP Snippet'] = snippet_list\n",
        "        except KeyError:\n",
        "            pass\n",
        "\n",
        "    df['Search Query'] = i\n",
        "    list_appended_data.append(df)\n",
        "print(\"Finished!\")"
      ],
      "execution_count": null,
      "outputs": [
        {
          "output_type": "stream",
          "text": [
            "Extracting SERPs via CSE API ..\n",
            "welding\n",
            "1 / 10\n",
            "Reading page number: 1\n",
            "\n",
            "welding equipment\n",
            "2 / 10\n",
            "Reading page number: 1\n",
            "\n",
            "welding supplies\n",
            "3 / 10\n",
            "Reading page number: 1\n",
            "\n",
            "welding supplies online\n",
            "4 / 10\n",
            "Reading page number: 1\n",
            "\n",
            "welding bench\n",
            "5 / 10\n",
            "Reading page number: 1\n",
            "\n",
            "welder\n",
            "6 / 10\n",
            "Reading page number: 1\n",
            "\n",
            "welding gloves\n",
            "7 / 10\n",
            "Reading page number: 1\n",
            "\n",
            "gas arc\n",
            "8 / 10\n",
            "Reading page number: 1\n",
            "\n",
            "tungsten grinder\n",
            "9 / 10\n",
            "Reading page number: 1\n",
            "\n",
            "welding trousers\n",
            "10 / 10\n",
            "Reading page number: 1\n",
            "\n",
            "Finished!\n"
          ],
          "name": "stdout"
        }
      ]
    },
    {
      "cell_type": "markdown",
      "metadata": {
        "id": "jqZPEPnucwKC"
      },
      "source": [
        "# clean the url variable to be use to filter the right site from the CSE results.\n",
        "There is an option when setting up the cx_id to include global results (not redcommended!) - This acts as a filter to remove 3rd party sites incase it is enabled. Essentially stripping back the specified to to be used to filter the dataframe. "
      ]
    },
    {
      "cell_type": "code",
      "metadata": {
        "id": "1nrP6_QDYVqj",
        "colab": {
          "base_uri": "https://localhost:8080/"
        },
        "outputId": "81558634-4f98-45ca-9b42-33e61de68783"
      },
      "source": [
        "# cleans the url variable which holds the search console url. \n",
        "# this is used to drop any sites which do not match it.\n",
        "url = url.replace(\"http://www.\",\"\")\n",
        "url = url.replace(\"https://www.\",\"\")\n",
        "url = url.replace(\"http://\",\"\")\n",
        "url = url.replace(\"https://\",\"\")\n",
        "url = url.replace(\"sc-domain:\",\"\")\n",
        "url = url.rstrip('\\/')  # remove trailing slash\n",
        "print(\"Cleaned the URL to:\", url)"
      ],
      "execution_count": null,
      "outputs": [
        {
          "output_type": "stream",
          "text": [
            "Cleaned the URL to: weldingandwelder.com\n"
          ],
          "name": "stdout"
        }
      ]
    },
    {
      "cell_type": "markdown",
      "metadata": {
        "id": "C-Q0Hqf-bzQE"
      },
      "source": [
        "# Make New Dataframe and Filter the Data"
      ]
    },
    {
      "cell_type": "code",
      "metadata": {
        "id": "bS_6VyfHYVtc",
        "colab": {
          "base_uri": "https://localhost:8080/"
        },
        "outputId": "4033f9b9-78e3-4cb3-e880-a2af031e0e04"
      },
      "source": [
        "#pd.set_option('display.max_columns', None)\n",
        "df_appended_data = pd.concat(list_appended_data)  # make a new dataframe from the appended list\n",
        "print(\"Filtering URLs which match:\", url, \"\\n\")\n",
        "df_appended_data = df_appended_data[df_appended_data['Ranking URL'].str.contains(url)]  # filter out any site that doesn't match the target domain\n",
        "df_appended_data = df_appended_data[~df_appended_data[\"Ranking URL\"].str.contains(\"pdf\", na=False)]  # drop PDF Files\n",
        "df_appended_data.drop_duplicates(subset=\"Search Query\", inplace=True)  # drop duplicate keywords and keep highest ranked URL\n",
        "rows = df_appended_data.shape[0]\n",
        "if rows == 0:\n",
        "  print(\"Empty Dataframe! - Try searching more pages in Google!\")\n",
        "  sys.exit(1)\n",
        "else:\n",
        "  print(df_appended_data)"
      ],
      "execution_count": null,
      "outputs": [
        {
          "output_type": "stream",
          "text": [
            "Filtering URLs which match: weldingandwelder.com \n",
            "\n",
            "                                         Ranking URL  ...             Search Query\n",
            "0                  https://www.weldingandwelder.com/  ...        welding equipment\n",
            "1                  https://www.weldingandwelder.com/  ...         welding supplies\n",
            "0                  https://www.weldingandwelder.com/  ...  welding supplies online\n",
            "0  https://www.weldingandwelder.com/category/weld...  ...            welding bench\n",
            "3                  https://www.weldingandwelder.com/  ...                   welder\n",
            "4  https://www.weldingandwelder.com/category/regu...  ...                  gas arc\n",
            "3  https://www.weldingandwelder.com/category/weld...  ...         tungsten grinder\n",
            "1  https://www.weldingandwelder.com/category/weld...  ...         welding trousers\n",
            "\n",
            "[8 rows x 4 columns]\n"
          ],
          "name": "stdout"
        }
      ]
    },
    {
      "cell_type": "markdown",
      "metadata": {
        "id": "DBA5usRDbzK-"
      },
      "source": [
        "# Scrape Live Titles and Metas with Beautiful Soup"
      ]
    },
    {
      "cell_type": "code",
      "metadata": {
        "id": "RIydbEVeYVvP",
        "colab": {
          "base_uri": "https://localhost:8080/"
        },
        "outputId": "e26e832a-ba1c-4fe2-90a5-570ef7a5d548"
      },
      "source": [
        "# Grab the page title & meta description to check with beautiful soup\n",
        "link_check = df_appended_data['Ranking URL'].tolist()\n",
        "\n",
        "# make empty placeholder lists to store the results\n",
        "df_bs4_appended_title = []  \n",
        "df_bs4_appended_desc = []\n",
        "\n",
        "# counter to count the remaining titles and meta to scrape\n",
        "scrape_count = 1\n",
        "\n",
        "# loop through URLs and Scrape the Live Page Title and Meta Descriptions\n",
        "for i in link_check:\n",
        "    print(\"\\nScraping Live Page Title and Meta Description\", scrape_count, \"/\", rows)\n",
        "    print(i)\n",
        "    time.sleep(1)\n",
        "    scrape_count = scrape_count + 1\n",
        "    url_bs4 = i\n",
        "    \n",
        "    hdr = {'User-Agent': 'Mozilla/5.0'}\n",
        "    req = Request(url_bs4,headers=hdr)\n",
        "    try:\n",
        "      page = urlopen(req)\n",
        "    except Exception:\n",
        "      print(\"Missing - Nothing to Scrape!\")\n",
        "      pass\n",
        "\n",
        "    soup = BeautifulSoup(page)\n",
        "    title = soup.find('title')\n",
        "    try:\n",
        "      print(title.string)\n",
        "    except Exception:\n",
        "      print(\"Missing - Nothing to Scrape!\")\n",
        "      pass\n",
        "\n",
        "    # extract the meta description\n",
        "    desc = \"\"\n",
        "    for meta in soup.findAll(\"meta\"):\n",
        "        metaname = meta.get('name', '').lower()\n",
        "        metaprop = meta.get('property', '').lower()\n",
        "        if 'description' == metaname or metaprop.find(\"description\") > 0:\n",
        "            desc = meta['content'].strip()\n",
        "\n",
        "    print(desc)\n",
        "\n",
        "    try:\n",
        "      df_bs4_appended_title.append(title.string)\n",
        "    except AttributeError:\n",
        "      df_bs4_appended_title.append(\"Couldn't Scrape!\")\n",
        "      pass\n",
        "    try:\n",
        "      df_bs4_appended_desc.append(desc)\n",
        "    except AttributeError:\n",
        "      df_bs4_appended_desc.append(\"Couldn't Scrape!\")\n",
        "      pass\n",
        "\n",
        "print(\"Finished Scraping Page Titles and Meta Descriptions!\")"
      ],
      "execution_count": null,
      "outputs": [
        {
          "output_type": "stream",
          "text": [
            "\n",
            "Scraping Live Page Title and Meta Description 1 / 8\n",
            "https://www.weldingandwelder.com/\n",
            "Welding Equipment | Welding Supplies | - Welding & Welder\n",
            "Welding equipment for MIG, TIG & MMA welding. Vast range of welding machines, cutting equipment, safety equipment and fume extraction. Welding suppliers online.\n",
            "\n",
            "Scraping Live Page Title and Meta Description 2 / 8\n",
            "https://www.weldingandwelder.com/\n",
            "Welding Equipment | Welding Supplies | - Welding & Welder\n",
            "Welding equipment for MIG, TIG & MMA welding. Vast range of welding machines, cutting equipment, safety equipment and fume extraction. Welding suppliers online.\n",
            "\n",
            "Scraping Live Page Title and Meta Description 3 / 8\n",
            "https://www.weldingandwelder.com/\n",
            "Welding Equipment | Welding Supplies | - Welding & Welder\n",
            "Welding equipment for MIG, TIG & MMA welding. Vast range of welding machines, cutting equipment, safety equipment and fume extraction. Welding suppliers online.\n",
            "\n",
            "Scraping Live Page Title and Meta Description 4 / 8\n",
            "https://www.weldingandwelder.com/category/welding-tools-benches/welding-benches-workshop-benches/heavy-duty-welding-benches/welding-benches-steel-top/\n",
            "Welding Benches Steel Top - Welding & Welder\n",
            "\n",
            "\n",
            "Scraping Live Page Title and Meta Description 5 / 8\n",
            "https://www.weldingandwelder.com/\n",
            "Welding Equipment | Welding Supplies | - Welding & Welder\n",
            "Welding equipment for MIG, TIG & MMA welding. Vast range of welding machines, cutting equipment, safety equipment and fume extraction. Welding suppliers online.\n",
            "\n",
            "Scraping Live Page Title and Meta Description 6 / 8\n",
            "https://www.weldingandwelder.com/category/regulators-manifolds/gas-arc-high-pressure-regulators/\n",
            "Gas Arc High Pressure Regulators - Welding & Welder\n",
            "\n",
            "\n",
            "Scraping Live Page Title and Meta Description 7 / 8\n",
            "https://www.weldingandwelder.com/category/welding-equipment/tig-welding/tungsten-grinders-for-tig/\n",
            "Tungsten Grinders for TIG - Welding & Welder\n",
            "\n",
            "\n",
            "Scraping Live Page Title and Meta Description 8 / 8\n",
            "https://www.weldingandwelder.com/category/welders-ppe/welders-clothing/welders-jackets-welders-trousers/\n",
            "Welders Jackets - Welders Trousers - Welding & Welder\n",
            "\n",
            "Finished Scraping Page Titles and Meta Descriptions!\n"
          ],
          "name": "stdout"
        }
      ]
    },
    {
      "cell_type": "markdown",
      "metadata": {
        "id": "oYdPAHUXbzGU"
      },
      "source": [
        "# Make, Clean & Export the Final Dataframe + Merge GSC Data Back In\n",
        "\n",
        "---\n",
        "\n"
      ]
    },
    {
      "cell_type": "code",
      "metadata": {
        "id": "mmV1HCXXYVxT",
        "colab": {
          "base_uri": "https://localhost:8080/",
          "height": 221
        },
        "outputId": "cff8c8a3-efc2-4c5d-b8f2-ac7829635394"
      },
      "source": [
        "# create new columns for the page title and meta description and populate\n",
        "df_appended_data['Live Page Title'] = df_bs4_appended_title\n",
        "df_appended_data['Live Meta Description'] = df_bs4_appended_desc\n",
        "\n",
        "# check if keywords found in the live page title / meta description\n",
        "df_appended_data[\"Live Page Title Lower\"] = df_appended_data[\"Live Page Title\"].str.lower()  \n",
        "df_appended_data[\"Live Meta Description Lower\"] = df_appended_data[\"Live Meta Description\"].str.lower()\n",
        "\n",
        "df_appended_data[\"KW in Title?\"] = df_appended_data.apply(lambda row: row[\"Search Query\"] in row[\"Live Page Title Lower\"], axis=1)\n",
        "df_appended_data[\"KW in Meta Description?\"] = df_appended_data.apply(lambda row: row[\"Search Query\"] in row[\"Live Meta Description Lower\"], axis=1) \n",
        "\n",
        "# make new dataframe to merge the impression data back in\n",
        "df_impressions = df_gsc_data[['query', 'impressions', 'clicks']]\n",
        "df_appended_data = pd.merge(df_appended_data, df_impressions, left_on=\"Search Query\", right_on=\"query\", how=\"left\")  # merge impression data back in\n",
        "\n",
        "# rename the impression and clicks columns\n",
        "df_appended_data.rename(columns={\"impressions\": \"Impressions\", \"clicks\": \"Clicks\"}, inplace=True)\n",
        "\n",
        "# set the new column order\n",
        "cols = [\n",
        "    \"Search Query\",\n",
        "    \"Impressions\",\n",
        "    \"Clicks\",\n",
        "    \"Ranking URL\",\n",
        "    \"Live Page Title\",\n",
        "    \"SERP Page Title\",\n",
        "    \"Live Meta Description\",\n",
        "    \"SERP Snippet\",\n",
        "    \"Title Match?\",\n",
        "    \"Meta Match?\",\n",
        "    \"KW in Title?\",\n",
        "    \"KW in Meta Description?\"\n",
        "]\n",
        "\n",
        "# reindex the new column order\n",
        "df_appended_data = df_appended_data.reindex(columns=cols)\n",
        "\n",
        "# drop duplicate Rows\n",
        "df_appended_data.drop_duplicates(subset=\"Search Query\", inplace=True)\n",
        "\n",
        "# Compare Live Site Data to SERP Data and Return True / False in a new column\n",
        "df_appended_data['Title Match?'] = df_appended_data['SERP Page Title'] == df_appended_data['Live Page Title']\n",
        "df_appended_data['Meta Match?'] = df_appended_data['SERP Snippet'] == df_appended_data['Live Meta Description']\n",
        "\n",
        "# print the dataframe\n",
        "print(df_appended_data)\n",
        "\n",
        "# make the final export\n",
        "df_appended_data.to_csv('serps-vs-live-metas.csv', index=False)\n",
        "files.download('serps-vs-live-metas.csv')\n",
        "print(\"Downloaded the CSV!\")"
      ],
      "execution_count": null,
      "outputs": [
        {
          "output_type": "stream",
          "text": [
            "              Search Query  Impressions  ...  KW in Title? KW in Meta Description?\n",
            "0        welding equipment         2210  ...          True                    True\n",
            "1         welding supplies         1604  ...          True                   False\n",
            "2  welding supplies online         1143  ...         False                   False\n",
            "3            welding bench         1035  ...          True                   False\n",
            "4                   welder          920  ...          True                   False\n",
            "5                  gas arc          543  ...          True                   False\n",
            "6         tungsten grinder          487  ...          True                   False\n",
            "7         welding trousers          466  ...         False                   False\n",
            "\n",
            "[8 rows x 12 columns]\n"
          ],
          "name": "stdout"
        },
        {
          "output_type": "display_data",
          "data": {
            "application/javascript": [
              "\n",
              "    async function download(id, filename, size) {\n",
              "      if (!google.colab.kernel.accessAllowed) {\n",
              "        return;\n",
              "      }\n",
              "      const div = document.createElement('div');\n",
              "      const label = document.createElement('label');\n",
              "      label.textContent = `Downloading \"${filename}\": `;\n",
              "      div.appendChild(label);\n",
              "      const progress = document.createElement('progress');\n",
              "      progress.max = size;\n",
              "      div.appendChild(progress);\n",
              "      document.body.appendChild(div);\n",
              "\n",
              "      const buffers = [];\n",
              "      let downloaded = 0;\n",
              "\n",
              "      const channel = await google.colab.kernel.comms.open(id);\n",
              "      // Send a message to notify the kernel that we're ready.\n",
              "      channel.send({})\n",
              "\n",
              "      for await (const message of channel.messages) {\n",
              "        // Send a message to notify the kernel that we're ready.\n",
              "        channel.send({})\n",
              "        if (message.buffers) {\n",
              "          for (const buffer of message.buffers) {\n",
              "            buffers.push(buffer);\n",
              "            downloaded += buffer.byteLength;\n",
              "            progress.value = downloaded;\n",
              "          }\n",
              "        }\n",
              "      }\n",
              "      const blob = new Blob(buffers, {type: 'application/binary'});\n",
              "      const a = document.createElement('a');\n",
              "      a.href = window.URL.createObjectURL(blob);\n",
              "      a.download = filename;\n",
              "      div.appendChild(a);\n",
              "      a.click();\n",
              "      div.remove();\n",
              "    }\n",
              "  "
            ],
            "text/plain": [
              "<IPython.core.display.Javascript object>"
            ]
          },
          "metadata": {
            "tags": []
          }
        },
        {
          "output_type": "display_data",
          "data": {
            "application/javascript": [
              "download(\"download_4e37dc5b-8925-4005-9436-26eb7ed24da3\", \"serps-vs-live-metas.csv\", 3753)"
            ],
            "text/plain": [
              "<IPython.core.display.Javascript object>"
            ]
          },
          "metadata": {
            "tags": []
          }
        },
        {
          "output_type": "stream",
          "text": [
            "Downloaded the CSV!\n"
          ],
          "name": "stdout"
        }
      ]
    },
    {
      "cell_type": "markdown",
      "metadata": {
        "id": "wY-03ocrbzBT"
      },
      "source": [
        "# Possible Remedial Strategies\n",
        "\n",
        "# Data-NoSnippet\n",
        "1.  Use *data-nosnippet* if they're pulling in content from footer / header etc\n",
        "\n",
        "# Add Missing Keywords\n",
        "1. Insert any missing keywords to the page title & meta descriptions\n",
        "\n",
        "# Steering Content\n",
        "1.  Add a custom meta description\n",
        "2.  Write the first line of content on the page as a second choice meta description\n",
        "3. add data-nosnippet to boiler plate content\n",
        "\n",
        "Data-nosnippet: https://developers.google.com/search/docs/advanced/robots/robots_meta_tag#data-nosnippet-attr\n"
      ]
    },
    {
      "cell_type": "markdown",
      "metadata": {
        "id": "BK-0TpN-by6k"
      },
      "source": [
        "# Other Ideas\n",
        "1.  Train an AI model https://www.searchenginejournal.com/automated-title-tag-optimization-using-deep-learning/390207/\n",
        "2.  Use Polyfuzz / Fuzzywuzzy library to see how similar / different titles and metas are\n",
        "3.  Modify it to use a 3rd party API instead of CSE API. (Data for SEO / ZenSERP etc for more accurate SERP data) - (3rd party APIs can give enhanced information such a snippets or sitelinks). \n"
      ]
    },
    {
      "cell_type": "markdown",
      "metadata": {
        "id": "2WvTDIu0SPMO"
      },
      "source": [
        "# Resources:\n",
        "\n",
        "**Data Blend Your Way to SEO Success:** https://www.youtube.com/watch?v=qB6-iWevbRg by @GregBernhardt4\n",
        "\n",
        "**Data-no-snippet:** https://developers.google.com/search/docs/advanced/robots/robots_meta_tag#data-nosnippet-attr \n",
        "\n",
        "**Accessing Nested Dictionary Keys with Python:** https://www.youtube.com/watch?v=oQfNYqz8pLs&t=502s\n",
        "\n",
        "**Access Search Console Data via Python:** https://colab.research.google.com/github/msure/notebooks/blob/master/_notebooks/2020-05-17-google-search-console-via-python.ipynb\n"
      ]
    }
  ]
}