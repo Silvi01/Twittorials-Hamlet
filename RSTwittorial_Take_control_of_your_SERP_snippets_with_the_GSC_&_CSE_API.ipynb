{
  "nbformat": 4,
  "nbformat_minor": 0,
  "metadata": {
    "colab": {
      "name": "RSTwittorial - Take control of your SERP snippets with the GSC & CSE API.ipynb",
      "provenance": [],
      "collapsed_sections": [],
      "toc_visible": true,
      "authorship_tag": "ABX9TyNdjm1vzXcyV/qYVW4AvHCp",
      "include_colab_link": true
    },
    "kernelspec": {
      "display_name": "Python 3",
      "name": "python3"
    },
    "language_info": {
      "name": "python"
    }
  },
  "cells": [
    {
      "cell_type": "markdown",
      "metadata": {
        "id": "view-in-github",
        "colab_type": "text"
      },
      "source": [
        "<a href=\"https://colab.research.google.com/github/searchsolved/Twittorials/blob/master/RSTwittorial_Take_control_of_your_SERP_snippets_with_the_GSC_%26_CSE_API.ipynb\" target=\"_parent\"><img src=\"https://colab.research.google.com/assets/colab-badge.svg\" alt=\"Open In Colab\"/></a>"
      ]
    },
    {
      "cell_type": "markdown",
      "metadata": {
        "id": "G-fgRjM5X-Iz"
      },
      "source": [
        "# Take control of your SERP snippets with the GSC & CSE API - Overview\n",
        "**Twitter:** @leefootSEO\n",
        "\n",
        "**Web:** https://searchsolved.co.uk\n",
        "\n",
        "**What This Sheet Does**\n",
        "\n",
        "Checks your top keywords in Search Console and Runs them through the Custom Search Engine API to show how you Page Titles and Meta Descriptions are being displayed in the live SERPs. The Google Custom Search API allows for 100 free searches per day. Paid accounts are only limited by budget.\n",
        "\n",
        "**Process:**\n",
        "1.  Pull Keyword Data from GSC\n",
        "2.  Run Keywords through Custom Search Engine\n",
        "3.  Run Pull Live Description and Title using Requests\n",
        "\n",
        "**Authentication Files Required**\n",
        "\n",
        "1.   client_secrets.json (Google Search Console)\n",
        "2.   CSE Developer Key (Google Custom Search API Developer Key)\n",
        "3.   Get Search Engine Code (Called a cx ID)"
      ]
    },
    {
      "cell_type": "markdown",
      "metadata": {
        "id": "pD5E-Qi84mxo"
      },
      "source": [
        "# Getting the CSE Developer Key - Free for 100 Searches per day or $5 per 1,000\n",
        "\n",
        "Get a Key: https://developers.google.com/custom-search/v1/introduction\n",
        "\n",
        "Step 1.  Click *Get a key*\n",
        "\n",
        "![](https://drive.google.com/uc?export=view&id=1R2V0ohHm5xnFuW9Rxd42IsWGQaHAkeOH)\n",
        "\n",
        "Step 2.  Choose *Create a new project*\n",
        "\n",
        "![](https://drive.google.com/uc?export=view&id=1p-y6ikGsbjHdaHeIa2w4xVt19ZA4LXFX)\n",
        "\n",
        "Step 3.  Give your project a name and click on next\n",
        "\n",
        "![](https://drive.google.com/uc?export=view&id=1jiice1JVcpWZs4VSYGI87Hjr7k83g25z)\n",
        "\n",
        "Step 4.  Copy the API key to a txt file and you're done!\n",
        "\n",
        "![](https://drive.google.com/uc?export=view&id=1PK_ek_2EtYB4hZysJtYnxNp7Kvl8anpa)\n"
      ]
    },
    {
      "cell_type": "markdown",
      "metadata": {
        "id": "1WXsrInDbyw5"
      },
      "source": [
        "# How to Get a CX ID \n",
        "\n",
        "Step 1. Visit: https://cse.google.com/all to get the cx_id\n",
        "\n",
        "Step 2. Click *Add* undernearth Edit Search Engines\n",
        "\n",
        "![](https://drive.google.com/uc?export=view&id=1jqhwvqjQeaBa42uKEz2DU022G7ARpizf)\n",
        "\n",
        "Step 3. Add Your Site or Domain in *Sites to Search*.\n",
        "\n",
        "![](https://drive.google.com/uc?export=view&id=1TjZjOeuZVplouLAbkP5dnrmEvAhKQf7r)\n",
        "\n",
        "Step 4. Click *Edit Search Engine* and *Setup*.\n",
        "![](https://drive.google.com/uc?export=view&id=1_umglyOBMNai9aijEf2djWcmfx5L80vL)\n",
        "\n",
        "Step 5. Search Engine ID = cx_id \n",
        "Copy and save to a txt file ready to upload.\n",
        "![](https://drive.google.com/uc?export=view&id=1iEKvCQFUAX7JL0ILMiqGovHKSWhzvZJc)\n",
        "\n"
      ]
    },
    {
      "cell_type": "markdown",
      "metadata": {
        "id": "j38vLPPCx0Cs"
      },
      "source": [
        "# How to Get the client_secrets.json file\n",
        "If this is your first time then there's a lot of steps to get done before actually getting to the code. (This only has to be done once, or until they change the process again!)\n",
        "\n",
        "First, you need to login to [Developer Console](https://console.developers.google.com) and create a project:\n",
        "\n",
        "![](https://drive.google.com/uc?export=view&id=1lS_yN4xg9JWKpAbKSkx0asERoEM84l3q)\n",
        "\n",
        "If you haven't already, create a new project:\n",
        "\n",
        "![](https://drive.google.com/uc?export=view&id=1bdwxodrrMJd0ILphGPCvsnI37oZiGHDJ)\n",
        "\n",
        "Name the project:\n",
        "\n",
        "![](https://drive.google.com/uc?export=view&id=1UFW5-m-N0zFVBZXsvlp5f8bacMaHOO2J)\n",
        "\n",
        "You'll need to find the specific API you want to enable. I've gotten lost trying to find which button will take you to the API library, so [here's the link instead](https://console.developers.google.com/apis/library). When you've found the API you're looking for, click the `Enable` button.\n",
        "\n",
        "![](https://drive.google.com/uc?export=view&id=1zm8aDecrgexUi0Q_uhQTsofA8RVhNapK)\n",
        "\n",
        "Since I'll be demonstrating an Oauth verification flow, you'll need to create a consent screen:\n",
        "\n",
        "![](https://drive.google.com/uc?export=view&id=1N2EsDZWKIg6Fd-R-453OCasDoBZiSnCG)\n",
        "\n",
        "There's a dozen fields or so, but only one field in particular matters: the application name. Give it some generic name (but make sure not to include anything related to Google in the name field). You can scoll down to the bottom of the screen and click the Save button.\n",
        "\n",
        "![](https://drive.google.com/uc?export=view&id=1uNEppkT8w9oS7MDJuvGUGs_vHC5hOSon)\n",
        "\n",
        "Almost there. Create the credentials; I've selected the OAuth option.\n",
        "\n",
        "![](https://drive.google.com/uc?export=view&id=1BKTrx7lj9Fhie5fKdy1bEV_zpgVJGlt9)\n",
        "\n",
        "Again, create a generic name, this time for the credentials themselves. One really, really important note: when I use Jupyter Lab on my Macbook Pro, when it starts up I get a notice that port `8888` is already in use, so instead it moves to port `8889`...you'll need to specifiy an unused port here in the \"Authorized redirect URIs\" _and_ remember the port because you'll use it again in the code below. In my case, port `8080` works:\n",
        "\n",
        "![](https://drive.google.com/uc?export=view&id=1aZ7mMOi-JFod6oyNmQ95eB3k5vp08nhj)\n",
        "\n",
        "Now download the client secrets, and rename to `client_secrets.json` and move the file to the folder you'll access in the code.\n",
        "\n",
        "![](https://drive.google.com/uc?export=view&id=1jukQoChyxYuZ00hFYT4E-1wN93sUVctc)\n",
        "\n",
        "Instructions taken from this super helpful Google Colab: https://colab.research.google.com/github/msure/notebooks/blob/master/_notebooks/2020-05-17-google-search-console-via-python.ipynb (\"Access Search Console Data via Python\")"
      ]
    },
    {
      "cell_type": "code",
      "metadata": {
        "id": "IiSqSoo5YC98",
        "colab": {
          "base_uri": "https://localhost:8080/"
        },
        "outputId": "2a806dc2-596d-4fd7-b48a-e96b52ef3eb3"
      },
      "source": [
        "!pip install pandas\n",
        "!pip install git+https://github.com/joshcarty/google-searchconsole\n",
        "!pip install install beautifulsoup4\n",
        "print(\"Installed all packages!\")"
      ],
      "execution_count": 1,
      "outputs": [
        {
          "output_type": "stream",
          "text": [
            "Requirement already satisfied: pandas in /usr/local/lib/python3.7/dist-packages (1.1.5)\n",
            "Requirement already satisfied: numpy>=1.15.4 in /usr/local/lib/python3.7/dist-packages (from pandas) (1.19.5)\n",
            "Requirement already satisfied: pytz>=2017.2 in /usr/local/lib/python3.7/dist-packages (from pandas) (2018.9)\n",
            "Requirement already satisfied: python-dateutil>=2.7.3 in /usr/local/lib/python3.7/dist-packages (from pandas) (2.8.1)\n",
            "Requirement already satisfied: six>=1.5 in /usr/local/lib/python3.7/dist-packages (from python-dateutil>=2.7.3->pandas) (1.15.0)\n",
            "Collecting git+https://github.com/joshcarty/google-searchconsole\n",
            "  Cloning https://github.com/joshcarty/google-searchconsole to /tmp/pip-req-build-26r5ctg8\n",
            "  Running command git clone -q https://github.com/joshcarty/google-searchconsole /tmp/pip-req-build-26r5ctg8\n",
            "Requirement already satisfied: google-api-python-client>=1.7.3 in /usr/local/lib/python3.7/dist-packages (from searchconsole==0.0.3) (1.12.8)\n",
            "Requirement already satisfied: python-dateutil>=2.7.3 in /usr/local/lib/python3.7/dist-packages (from searchconsole==0.0.3) (2.8.1)\n",
            "Requirement already satisfied: google-auth<2dev,>=1.5.0 in /usr/local/lib/python3.7/dist-packages (from searchconsole==0.0.3) (1.28.1)\n",
            "Requirement already satisfied: google-auth-oauthlib>=0.2.0 in /usr/local/lib/python3.7/dist-packages (from searchconsole==0.0.3) (0.4.4)\n",
            "Requirement already satisfied: google-auth-httplib2>=0.0.3 in /usr/local/lib/python3.7/dist-packages (from google-api-python-client>=1.7.3->searchconsole==0.0.3) (0.0.4)\n",
            "Requirement already satisfied: six<2dev,>=1.13.0 in /usr/local/lib/python3.7/dist-packages (from google-api-python-client>=1.7.3->searchconsole==0.0.3) (1.15.0)\n",
            "Requirement already satisfied: uritemplate<4dev,>=3.0.0 in /usr/local/lib/python3.7/dist-packages (from google-api-python-client>=1.7.3->searchconsole==0.0.3) (3.0.1)\n",
            "Requirement already satisfied: google-api-core<2dev,>=1.21.0 in /usr/local/lib/python3.7/dist-packages (from google-api-python-client>=1.7.3->searchconsole==0.0.3) (1.26.3)\n",
            "Requirement already satisfied: httplib2<1dev,>=0.15.0 in /usr/local/lib/python3.7/dist-packages (from google-api-python-client>=1.7.3->searchconsole==0.0.3) (0.17.4)\n",
            "Requirement already satisfied: setuptools>=40.3.0 in /usr/local/lib/python3.7/dist-packages (from google-auth<2dev,>=1.5.0->searchconsole==0.0.3) (56.0.0)\n",
            "Requirement already satisfied: pyasn1-modules>=0.2.1 in /usr/local/lib/python3.7/dist-packages (from google-auth<2dev,>=1.5.0->searchconsole==0.0.3) (0.2.8)\n",
            "Requirement already satisfied: cachetools<5.0,>=2.0.0 in /usr/local/lib/python3.7/dist-packages (from google-auth<2dev,>=1.5.0->searchconsole==0.0.3) (4.2.1)\n",
            "Requirement already satisfied: rsa<5,>=3.1.4; python_version >= \"3.6\" in /usr/local/lib/python3.7/dist-packages (from google-auth<2dev,>=1.5.0->searchconsole==0.0.3) (4.7.2)\n",
            "Requirement already satisfied: requests-oauthlib>=0.7.0 in /usr/local/lib/python3.7/dist-packages (from google-auth-oauthlib>=0.2.0->searchconsole==0.0.3) (1.3.0)\n",
            "Requirement already satisfied: googleapis-common-protos<2.0dev,>=1.6.0 in /usr/local/lib/python3.7/dist-packages (from google-api-core<2dev,>=1.21.0->google-api-python-client>=1.7.3->searchconsole==0.0.3) (1.53.0)\n",
            "Requirement already satisfied: protobuf>=3.12.0 in /usr/local/lib/python3.7/dist-packages (from google-api-core<2dev,>=1.21.0->google-api-python-client>=1.7.3->searchconsole==0.0.3) (3.12.4)\n",
            "Requirement already satisfied: packaging>=14.3 in /usr/local/lib/python3.7/dist-packages (from google-api-core<2dev,>=1.21.0->google-api-python-client>=1.7.3->searchconsole==0.0.3) (20.9)\n",
            "Requirement already satisfied: requests<3.0.0dev,>=2.18.0 in /usr/local/lib/python3.7/dist-packages (from google-api-core<2dev,>=1.21.0->google-api-python-client>=1.7.3->searchconsole==0.0.3) (2.23.0)\n",
            "Requirement already satisfied: pytz in /usr/local/lib/python3.7/dist-packages (from google-api-core<2dev,>=1.21.0->google-api-python-client>=1.7.3->searchconsole==0.0.3) (2018.9)\n",
            "Requirement already satisfied: pyasn1<0.5.0,>=0.4.6 in /usr/local/lib/python3.7/dist-packages (from pyasn1-modules>=0.2.1->google-auth<2dev,>=1.5.0->searchconsole==0.0.3) (0.4.8)\n",
            "Requirement already satisfied: oauthlib>=3.0.0 in /usr/local/lib/python3.7/dist-packages (from requests-oauthlib>=0.7.0->google-auth-oauthlib>=0.2.0->searchconsole==0.0.3) (3.1.0)\n",
            "Requirement already satisfied: pyparsing>=2.0.2 in /usr/local/lib/python3.7/dist-packages (from packaging>=14.3->google-api-core<2dev,>=1.21.0->google-api-python-client>=1.7.3->searchconsole==0.0.3) (2.4.7)\n",
            "Requirement already satisfied: chardet<4,>=3.0.2 in /usr/local/lib/python3.7/dist-packages (from requests<3.0.0dev,>=2.18.0->google-api-core<2dev,>=1.21.0->google-api-python-client>=1.7.3->searchconsole==0.0.3) (3.0.4)\n",
            "Requirement already satisfied: idna<3,>=2.5 in /usr/local/lib/python3.7/dist-packages (from requests<3.0.0dev,>=2.18.0->google-api-core<2dev,>=1.21.0->google-api-python-client>=1.7.3->searchconsole==0.0.3) (2.10)\n",
            "Requirement already satisfied: certifi>=2017.4.17 in /usr/local/lib/python3.7/dist-packages (from requests<3.0.0dev,>=2.18.0->google-api-core<2dev,>=1.21.0->google-api-python-client>=1.7.3->searchconsole==0.0.3) (2020.12.5)\n",
            "Requirement already satisfied: urllib3!=1.25.0,!=1.25.1,<1.26,>=1.21.1 in /usr/local/lib/python3.7/dist-packages (from requests<3.0.0dev,>=2.18.0->google-api-core<2dev,>=1.21.0->google-api-python-client>=1.7.3->searchconsole==0.0.3) (1.24.3)\n",
            "Building wheels for collected packages: searchconsole\n",
            "  Building wheel for searchconsole (setup.py) ... \u001b[?25l\u001b[?25hdone\n",
            "  Created wheel for searchconsole: filename=searchconsole-0.0.3-cp37-none-any.whl size=8799 sha256=cdbe06dd21b5b5f69e7425767f5159c3a24a539a02dc078e01d6b6f56774a6f5\n",
            "  Stored in directory: /tmp/pip-ephem-wheel-cache-ceg_iph6/wheels/eb/d4/d2/b374d767a5df3b100a2302f2dadcd170a487d48abe626c3f09\n",
            "Successfully built searchconsole\n",
            "Installing collected packages: searchconsole\n",
            "Successfully installed searchconsole-0.0.3\n",
            "Collecting install\n",
            "  Downloading https://files.pythonhosted.org/packages/f0/a5/fd2eb807a9a593869ee8b7a6bcb4ad84a6eb31cef5c24d1bfbf7c938c13f/install-1.3.4-py3-none-any.whl\n",
            "Requirement already satisfied: beautifulsoup4 in /usr/local/lib/python3.7/dist-packages (4.6.3)\n",
            "Installing collected packages: install\n",
            "Successfully installed install-1.3.4\n",
            "Installed all packages!\n"
          ],
          "name": "stdout"
        }
      ]
    },
    {
      "cell_type": "code",
      "metadata": {
        "id": "owVFrDivYDqt",
        "colab": {
          "base_uri": "https://localhost:8080/"
        },
        "outputId": "74ad89d4-41df-42f2-ec80-e65b9bb6842b"
      },
      "source": [
        "# import the libraries\n",
        "import time\n",
        "import json\n",
        "import sys\n",
        "import pandas as pd\n",
        "import searchconsole\n",
        "from googleapiclient.discovery import build\n",
        "from urllib import request\n",
        "from bs4 import BeautifulSoup\n",
        "from google.colab import files\n",
        "from urllib.request import Request, urlopen\n",
        "print(\"Imported the libraries!\")"
      ],
      "execution_count": null,
      "outputs": [
        {
          "output_type": "stream",
          "text": [
            "Imported the libraries!\n"
          ],
          "name": "stdout"
        }
      ]
    },
    {
      "cell_type": "markdown",
      "metadata": {
        "id": "oAGFWu-TaUoR"
      },
      "source": [
        "# Upload the CSE Dev Key File\n"
      ]
    },
    {
      "cell_type": "code",
      "metadata": {
        "id": "EQ_rrhaRYFoh",
        "colab": {
          "resources": {
            "http://localhost:8080/nbextensions/google.colab/files.js": {
              "data": "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",
              "ok": true,
              "headers": [
                [
                  "content-type",
                  "application/javascript"
                ]
              ],
              "status": 200,
              "status_text": "OK"
            }
          },
          "base_uri": "https://localhost:8080/",
          "height": 77
        },
        "outputId": "28ec894f-ba4d-42b7-aebc-26ddc3fd70f6"
      },
      "source": [
        "# upload the cse dev key\n",
        "from google.colab import files\n",
        "cse_key_up = files.upload()\n",
        "# read the contents and parse the data of the CSE Dev Key\n",
        "filename=list(cse_key_up.keys())[0]  # gets the uploaded file name\n",
        "with open(filename, 'r') as f: \n",
        "  cse_key = f.read()"
      ],
      "execution_count": null,
      "outputs": [
        {
          "output_type": "display_data",
          "data": {
            "text/html": [
              "\n",
              "     <input type=\"file\" id=\"files-608c08af-d226-4a03-8e73-f2c356a344ec\" name=\"files[]\" multiple disabled\n",
              "        style=\"border:none\" />\n",
              "     <output id=\"result-608c08af-d226-4a03-8e73-f2c356a344ec\">\n",
              "      Upload widget is only available when the cell has been executed in the\n",
              "      current browser session. Please rerun this cell to enable.\n",
              "      </output>\n",
              "      <script src=\"/nbextensions/google.colab/files.js\"></script> "
            ],
            "text/plain": [
              "<IPython.core.display.HTML object>"
            ]
          },
          "metadata": {
            "tags": []
          }
        },
        {
          "output_type": "stream",
          "text": [
            "Saving cse-dev-key.txt to cse-dev-key.txt\n"
          ],
          "name": "stdout"
        }
      ]
    },
    {
      "cell_type": "markdown",
      "metadata": {
        "id": "T1lz5vihaU-4"
      },
      "source": [
        "# Upload the cx_id File\n",
        "\n"
      ]
    },
    {
      "cell_type": "code",
      "metadata": {
        "id": "sKjr--fRYFwA",
        "colab": {
          "resources": {
            "http://localhost:8080/nbextensions/google.colab/files.js": {
              "data": "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",
              "ok": true,
              "headers": [
                [
                  "content-type",
                  "application/javascript"
                ]
              ],
              "status": 200,
              "status_text": "OK"
            }
          },
          "base_uri": "https://localhost:8080/",
          "height": 77
        },
        "outputId": "e0d0291d-c256-4253-9688-42848a891c75"
      },
      "source": [
        "# upload cx_id file\n",
        "from google.colab import files\n",
        "cx_id_up = files.upload()\n",
        "# read the contents and parse the data of the cx_id file\n",
        "filename=list(cx_id_up.keys())[0]  # gets the uploaded file name\n",
        "with open(filename, 'r') as f: \n",
        "  cx_id = f.read()"
      ],
      "execution_count": null,
      "outputs": [
        {
          "output_type": "display_data",
          "data": {
            "text/html": [
              "\n",
              "     <input type=\"file\" id=\"files-4491e60c-d48e-4bb7-985d-31d4ce0700e3\" name=\"files[]\" multiple disabled\n",
              "        style=\"border:none\" />\n",
              "     <output id=\"result-4491e60c-d48e-4bb7-985d-31d4ce0700e3\">\n",
              "      Upload widget is only available when the cell has been executed in the\n",
              "      current browser session. Please rerun this cell to enable.\n",
              "      </output>\n",
              "      <script src=\"/nbextensions/google.colab/files.js\"></script> "
            ],
            "text/plain": [
              "<IPython.core.display.HTML object>"
            ]
          },
          "metadata": {
            "tags": []
          }
        },
        {
          "output_type": "stream",
          "text": [
            "Saving cx-id-1.txt to cx-id-1.txt\n"
          ],
          "name": "stdout"
        }
      ]
    },
    {
      "cell_type": "markdown",
      "metadata": {
        "id": "zGrv6giWaVIu"
      },
      "source": [
        "# Upload the client_secrets.json file"
      ]
    },
    {
      "cell_type": "code",
      "metadata": {
        "id": "cnFSRXkIYFzp",
        "colab": {
          "resources": {
            "http://localhost:8080/nbextensions/google.colab/files.js": {
              "data": "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",
              "ok": true,
              "headers": [
                [
                  "content-type",
                  "application/javascript"
                ]
              ],
              "status": 200,
              "status_text": "OK"
            }
          },
          "base_uri": "https://localhost:8080/",
          "height": 77
        },
        "outputId": "44c9b8e2-3a4f-4eec-ed08-7cdf9e0bc718"
      },
      "source": [
        "# upload client_id.json\n",
        "from google.colab import files\n",
        "names = files.upload()"
      ],
      "execution_count": null,
      "outputs": [
        {
          "output_type": "display_data",
          "data": {
            "text/html": [
              "\n",
              "     <input type=\"file\" id=\"files-54b17a13-3625-47c3-acc4-6a37d2f2d1b2\" name=\"files[]\" multiple disabled\n",
              "        style=\"border:none\" />\n",
              "     <output id=\"result-54b17a13-3625-47c3-acc4-6a37d2f2d1b2\">\n",
              "      Upload widget is only available when the cell has been executed in the\n",
              "      current browser session. Please rerun this cell to enable.\n",
              "      </output>\n",
              "      <script src=\"/nbextensions/google.colab/files.js\"></script> "
            ],
            "text/plain": [
              "<IPython.core.display.HTML object>"
            ]
          },
          "metadata": {
            "tags": []
          }
        },
        {
          "output_type": "stream",
          "text": [
            "Saving client_secrets.json to client_secrets.json\n"
          ],
          "name": "stdout"
        }
      ]
    },
    {
      "cell_type": "markdown",
      "metadata": {
        "id": "prEOCYsia57C"
      },
      "source": [
        "# Login to Authorise GSC and Paste in Auth Code\n",
        "\n",
        "\n",
        "\n"
      ]
    },
    {
      "cell_type": "code",
      "metadata": {
        "id": "QbI0XvcHYF4x",
        "colab": {
          "base_uri": "https://localhost:8080/"
        },
        "outputId": "2265dda4-4b56-4731-aa90-4547f0aa2d7b"
      },
      "source": [
        "filename=list(names.keys())[0]  # get the name of the uploaded file\n",
        "account = searchconsole.authenticate(client_config=filename, serialize='credentials.json', flow=\"console\")"
      ],
      "execution_count": null,
      "outputs": [
        {
          "output_type": "stream",
          "text": [
            "Please visit this URL to authorize this application: https://accounts.google.com/o/oauth2/auth?response_type=code&client_id=158373752154-17ek6obhi20i05iae25k1a7b3gdbt4if.apps.googleusercontent.com&redirect_uri=urn%3Aietf%3Awg%3Aoauth%3A2.0%3Aoob&scope=https%3A%2F%2Fwww.googleapis.com%2Fauth%2Fwebmasters.readonly&state=jp893gKiKyEGBrPu3UnuW91nMiYYlS&prompt=consent&access_type=offline\n",
            "Enter the authorization code: 4/1AY0e-g54KzXVhgAltUmwRC359cC0U4cxggHubK6eXVK6SIXlthYv_aUY-1I\n"
          ],
          "name": "stdout"
        }
      ]
    },
    {
      "cell_type": "markdown",
      "metadata": {
        "id": "JIguaPp6aVY5"
      },
      "source": [
        "# Print the List of Available Search Console Properties\n"
      ]
    },
    {
      "cell_type": "code",
      "metadata": {
        "id": "fK2QyLmMYF6_"
      },
      "source": [
        "# uncomment to get a list of the available search properties\n",
        "#print(account.webproperties)"
      ],
      "execution_count": null,
      "outputs": []
    },
    {
      "cell_type": "markdown",
      "metadata": {
        "id": "6hBWFA6paVQY"
      },
      "source": [
        "# Set the GSC Variables Below!\n",
        "\n",
        "*   The Number of Keywords to Analyse\n",
        "*   Country Filter (Uses 3-letter country code)\n",
        "*   The Number of Keywords from Search Console to Check in the Live SERPs\n",
        "*   The Domain Name as Shown in Search Console\n",
        "*   Start / End Date Range\n",
        "\n",
        "List of 3-letter country codes https://en.wikipedia.org/wiki/ISO_3166-1_alpha-3"
      ]
    },
    {
      "cell_type": "code",
      "metadata": {
        "id": "1ApugNBM_DK6",
        "colab": {
          "base_uri": "https://localhost:8080/"
        },
        "outputId": "e75fa4c7-fbbf-43a3-b021-b2d33dc0d9db"
      },
      "source": [
        "# Set GSC Variables Here:\n",
        "country_filter = \"gbr\"\n",
        "top_gsc_kws = 40   # number of keywords to use from gsc - Free for 100 KWs per day\n",
        "url = \"https://www.weldingandwelder.com/\" # Must match SC URL Exactly - print the available accounts in the cell above if unsure! - Usually just missing a trailing /\n",
        "start_date = \"2021-01-01\"  # Example formatting: '2020-09-20'\n",
        "end_date = \"2021-03-31\"\n",
        "print(\"All GSC Variables Set!\")\n",
        "print(\"Searching Top\", top_gsc_kws, \"Keywords\")"
      ],
      "execution_count": null,
      "outputs": [
        {
          "output_type": "stream",
          "text": [
            "All GSC Variables Set!\n",
            "Searching Top 40 Keywords\n"
          ],
          "name": "stdout"
        }
      ]
    },
    {
      "cell_type": "markdown",
      "metadata": {
        "id": "SgF73G6baVUi"
      },
      "source": [
        "# Set the Custom Search Engine API Variables Below!\n",
        "\n",
        "\n",
        "*   Language = The Language of the Google Search Engine\n",
        "*   Geolocation = The GeoLocation of the Google Search Engine\n",
        "*   Set The Number of Pages to Check (1 = First Page of Google Only)\n",
        "*   Set the Search Result Page To Start From\n",
        "*   Note each page counts as a search query. Checking x10 KWs over 10 Pages = 100 Queries.\n",
        "\n",
        "List of Geo Location Codes: https://developers.google.com/custom-search/docs/xml_results_appendices?hl=ro#countryCodes\n"
      ]
    },
    {
      "cell_type": "code",
      "metadata": {
        "id": "hh_2fC8LYF_a",
        "colab": {
          "base_uri": "https://localhost:8080/"
        },
        "outputId": "84b85c99-1124-4d15-ae0b-4150b80c2fdc"
      },
      "source": [
        "# Set CSE Variables Here:\n",
        "language = 'lang_en'  # Search language\n",
        "geolocation = 'uk'  # Set the Geolocation\n",
        "page_limit = 1  # how many pages to check in Google\n",
        "start_page = 1  # Page to start on in Google\n",
        "print(\"All CSE Variables Set!\")"
      ],
      "execution_count": null,
      "outputs": [
        {
          "output_type": "stream",
          "text": [
            "All CSE Variables Set!\n"
          ],
          "name": "stdout"
        }
      ]
    },
    {
      "cell_type": "code",
      "metadata": {
        "id": "LlHMVNZVYGCB",
        "colab": {
          "base_uri": "https://localhost:8080/"
        },
        "outputId": "62e87ae4-2e6a-47dd-dfb7-0f00a4790206"
      },
      "source": [
        "# error checking routine\n",
        "if page_limit > 10:\n",
        "  print(\"Page limit must be 10 or less! Please reduce the number!\\n\")\n",
        "  sys.exit(1)\n",
        "if start_page > 10:\n",
        "  print(\"Start must be 10 or less! Please reduce the number!\\n\")\n",
        "  sys.exit(1)\n",
        "\n",
        "#print variables\n",
        "print(\"Language: \", language)\n",
        "print(\"Geolocation: \", geolocation)\n",
        "print(\"Page Limit: \", page_limit)\n",
        "print(\"Starting Page: \", start_page)\n",
        "\n",
        "# calculate how many credits are being used\n",
        "credits = top_gsc_kws * page_limit\n",
        "\n",
        "if credits > 100:\n",
        "  print(\"\\nWARNING: This will use\", credits, \"credits!\", credits - 100, \"more than the 100 free CSE searches per day! Consider a paid account..\")\n",
        "else:\n",
        "  print(\"\\nThis will use\", credits, \"credits!\")"
      ],
      "execution_count": null,
      "outputs": [
        {
          "output_type": "stream",
          "text": [
            "Language:  lang_en\n",
            "Geolocation:  uk\n",
            "Page Limit:  1\n",
            "Starting Page:  1\n",
            "\n",
            "This will use 40 credits!\n"
          ],
          "name": "stdout"
        }
      ]
    },
    {
      "cell_type": "markdown",
      "metadata": {
        "id": "ouLkPCq5a6gi"
      },
      "source": [
        "# Authenticate with Search Console API"
      ]
    },
    {
      "cell_type": "code",
      "metadata": {
        "id": "nrZou6efYGD-",
        "colab": {
          "base_uri": "https://localhost:8080/"
        },
        "outputId": "fea2180b-7680-481a-d533-a04d9c52449a"
      },
      "source": [
        "# Assign values to dimension variables\n",
        "dimension_1 = \"query\"  # get keyword data from Search Console\n",
        "dimension_2 = \"page\"  # get URL data from Search Console\n",
        "dimension_3 = \"country\"  # get country data from Search Console\n",
        "dimension_4 = \"device\"  # Get device data from Search Console\n",
        "available_accounts = account.webproperties  # store available accounts in a var to print if issues\n",
        "\n",
        "try:\n",
        "    print(\"Reading client_secrets.json & credentials.json..\")  # Authenticate with GSC\n",
        "    account = searchconsole.authenticate(\n",
        "        client_config = filename,\n",
        "        credentials = 'credentials.json',\n",
        "    )\n",
        "    webproperty = account[(url)]  # Connect to the GSC property\n",
        "    print(\"Pulling GSC Data. Please Be Patient!\")\n",
        "    gsc_data = (\n",
        "        webproperty.query.range(start_date, end_date)\n",
        "            .dimension(\n",
        "            dimension_1,\n",
        "            dimension_2,\n",
        "            dimension_3,\n",
        "            # dimension_4,  # Dimensions can be commented out, like this one.\n",
        "        )\n",
        "            .get()\n",
        "    )\n",
        "except AttributeError:\n",
        "    print(\"No Data Received from Search Console API! - Check the site name matches Search Console exactly!\\nAvailable accounts: \\n\", available_accounts)\n",
        "    sys.exit(1)\n",
        "print(\"\\nGSC Data Pull Complete!\")\n",
        "\n",
        "# make the GSC dataframe\n",
        "df_gsc_data = pd.DataFrame(gsc_data)\n",
        "#print(df_gsc_data.head(top_gsc_kws))\n",
        "print(df_gsc_data)"
      ],
      "execution_count": null,
      "outputs": [
        {
          "output_type": "stream",
          "text": [
            "Reading client_secrets.json & credentials.json..\n",
            "Pulling GSC Data. Please Be Patient!\n",
            "\n",
            "GSC Data Pull Complete!\n",
            "                      query  ...    position\n",
            "0        welding and welder  ...    1.346821\n",
            "1              welding tent  ...    2.809524\n",
            "2             welding bench  ...    8.638647\n",
            "3               flange pins  ...    3.076190\n",
            "4             flange square  ...    4.287425\n",
            "...                     ...  ...         ...\n",
            "185521           پیپ در طلا  ...  100.000000\n",
            "185522          چکش جوشکاری  ...   55.000000\n",
            "185523  गैस कटिंग नोजल साइज  ...   28.000000\n",
            "185524               वेल्डर  ...    9.000000\n",
            "185525    ছেলেদের এক্স এক্স  ...   67.000000\n",
            "\n",
            "[185526 rows x 7 columns]\n"
          ],
          "name": "stdout"
        }
      ]
    },
    {
      "cell_type": "markdown",
      "metadata": {
        "id": "qIpTUhjXbu4E"
      },
      "source": [
        "# Clean and Refine the Data\n",
        "Filters and sorts data based on variables set. Sorts by highest impressions, removes special characters and creates a list to be checked through the CSE API."
      ]
    },
    {
      "cell_type": "code",
      "metadata": {
        "id": "oUS6xsCQYVmA",
        "colab": {
          "base_uri": "https://localhost:8080/"
        },
        "outputId": "4a62b808-d077-428e-9f5b-e1f28e1f9f8c"
      },
      "source": [
        "df_gsc_data = df_gsc_data[df_gsc_data[\"country\"].str.contains(country_filter)]  # keep only country specific traffic\n",
        "df_gsc_data = df_gsc_data.sort_values(by=\"impressions\", ascending=False)  # sort by highest impressions\n",
        "df_gsc_data.drop_duplicates(subset=\"query\", inplace=True)  # drop duplicate queries (keeping query with highest impressions)\n",
        "row_count = df_gsc_data.shape[0]  # count the number of rows\n",
        "df_gsc_data['row_nums'] = range(0, row_count)  # make a new column to number the rows so that only the top X Rows can be kept\n",
        "top_gsc_kws = top_gsc_kws - 1  # subtract -1 from the specified # of GSC KWs to Use (Because index starts at 0)\n",
        "df_gsc_data = df_gsc_data[~(df_gsc_data['row_nums'] > top_gsc_kws)]  # keep first X rows (Drop rows over X rows)\n",
        "df_gsc_data['query'] = df_gsc_data['query'].str.replace(r\"[^a-zA-Z ]+\", \" \").str.strip()  # strip out special characters\n",
        "search_terms = df_gsc_data['query'].tolist()  # dump search term queries to a list (to loop through with the Search Console API)\n",
        "list_appended_data = []  # create an empty list to append data to from the loop\n",
        "print(df_gsc_data)\n",
        "print(\"\\nCleaned the Data & Sorted by The Top GSC Queries!\")"
      ],
      "execution_count": null,
      "outputs": [
        {
          "output_type": "stream",
          "text": [
            "                                  query  ... row_nums\n",
            "6                               welding  ...        0\n",
            "110                   welding equipment  ...        1\n",
            "50                     welding supplies  ...        2\n",
            "178442          welding supplies online  ...        3\n",
            "2                         welding bench  ...        4\n",
            "46                               welder  ...        5\n",
            "1534                     welding gloves  ...        6\n",
            "80                              gas arc  ...        7\n",
            "7                      tungsten grinder  ...        8\n",
            "5                      welding trousers  ...        9\n",
            "183750                    wheel welding  ...       10\n",
            "170495                     welding mask  ...       11\n",
            "989                         mig welding  ...       12\n",
            "174966                     welding rods  ...       13\n",
            "101363                        p  filter  ...       14\n",
            "98                            tig brush  ...       15\n",
            "40                     welding curtains  ...       16\n",
            "1535                    welding goggles  ...       17\n",
            "1                          welding tent  ...       18\n",
            "171                             welders  ...       19\n",
            "109                 welding earth clamp  ...       20\n",
            "36853                     cutting discs  ...       21\n",
            "65                          pipe stands  ...       22\n",
            "93304                     oxy acetylene  ...       23\n",
            "172940                      welding ppe  ...       24\n",
            "813                              gasarc  ...       25\n",
            "54501                   fume extraction  ...       26\n",
            "56837             gas cutting equipment  ...       27\n",
            "14                        welders bench  ...       28\n",
            "24                 devcon plastic steel  ...       29\n",
            "28      oxy acetylene welding equipment  ...       30\n",
            "170085                 welding machines  ...       31\n",
            "157642                  welding curtain  ...       32\n",
            "167352                  welding helmets  ...       33\n",
            "72767                 kemper extraction  ...       34\n",
            "149               oxy acetylene cutting  ...       35\n",
            "90                      nevoc regulator  ...       36\n",
            "44      oxy acetylene welding equipment  ...       37\n",
            "103642                      pipe clamps  ...       38\n",
            "173                      welding clamps  ...       39\n",
            "\n",
            "[40 rows x 8 columns]\n",
            "\n",
            "Cleaned the Data & Sorted by The Top GSC Queries!\n"
          ],
          "name": "stdout"
        }
      ]
    },
    {
      "cell_type": "markdown",
      "metadata": {
        "id": "QbcB0PWmbzWe"
      },
      "source": [
        "# Loop Through the GSC Keyword List using the Custom Search API API\n",
        "Accessing Nested Dictionary Keys with Python: https://www.youtube.com/watch?v=oQfNYqz8pLs&t=502s"
      ]
    },
    {
      "cell_type": "code",
      "metadata": {
        "id": "5cO67UKTYVpQ",
        "colab": {
          "base_uri": "https://localhost:8080/"
        },
        "outputId": "0bd56027-1b9e-4f73-a773-55f407f01ff6"
      },
      "source": [
        "def getService():\n",
        "    service = build(\"customsearch\", \"v1\",\n",
        "                    developerKey=cse_key)\n",
        "    return service\n",
        "\n",
        "\n",
        "df_appended_data = []\n",
        "\n",
        "search_terms = df_gsc_data['query'].tolist()\n",
        "print(\"Extracting SERPs via CSE API ..\")\n",
        "get_len = len(search_terms)\n",
        "data_counter = 0\n",
        "for i in search_terms:\n",
        "    print(i)\n",
        "    data_counter = data_counter +1\n",
        "    print(data_counter,\"/\", get_len)\n",
        "    time.sleep(1)\n",
        "\n",
        "    pageLimit = page_limit\n",
        "    service = getService()\n",
        "    startIndex = start_page\n",
        "    response = []\n",
        "    link_list = []\n",
        "    display_link_list = []\n",
        "    title_list = []\n",
        "    snippet_list = []\n",
        "    position_list = []\n",
        "\n",
        "    for nPage in range(0, pageLimit):\n",
        "        print(\"Reading page number:\", nPage + 1)\n",
        "\n",
        "        response.append(service.cse().list(\n",
        "            q=i,  # Search words\n",
        "            cx=cx_id,  # CSE Key\n",
        "            lr=language,  # Search language\n",
        "            gl=geolocation,  # Set the Geolocation\n",
        "            start=startIndex\n",
        "        ).execute())\n",
        "        try:\n",
        "          startIndex = response[nPage].get(\"queries\").get(\"nextPage\")[0].get(\"startIndex\")\n",
        "        except Exception:\n",
        "          print(\"Error Pulling Data!\")\n",
        "          pass\n",
        "\n",
        "    with open('data.json', 'w') as outfile:\n",
        "        json.dump(response, outfile)\n",
        "        for main_dict in response:\n",
        "            print('')  # print main_dict variable to see all keys\n",
        "\n",
        "        for item_access in main_dict['items']:\n",
        "            link = item_access['link']  # Access Keys Here / ['snippet'] / ['link'] etc\n",
        "            link_list.append(link)\n",
        "            \n",
        "        # make new dataframe\n",
        "        df = pd.DataFrame(None)\n",
        "        df['Ranking URL'] = link_list\n",
        "\n",
        "        for item_access in main_dict['items']:\n",
        "            title = item_access['title']  # Access Keys Here / ['snippet'] / ['link'] etc\n",
        "            title_list.append(title)\n",
        "\n",
        "        df['SERP Page Title'] = title_list\n",
        "\n",
        "        try:\n",
        "            for item_access in main_dict['items']:\n",
        "                snippet = item_access['snippet']  # Access Keys Here / ['snippet'] / ['link'] etc\n",
        "                snippet_list.append(snippet)\n",
        "            df['SERP Snippet'] = snippet_list\n",
        "        except KeyError:\n",
        "            pass\n",
        "\n",
        "    df['Search Query'] = i\n",
        "    list_appended_data.append(df)\n",
        "print(\"Finished!\")"
      ],
      "execution_count": null,
      "outputs": [
        {
          "output_type": "stream",
          "text": [
            "Extracting SERPs via CSE API ..\n",
            "welding\n",
            "1 / 40\n",
            "Reading page number: 1\n",
            "\n",
            "welding equipment\n",
            "2 / 40\n",
            "Reading page number: 1\n",
            "\n",
            "welding supplies\n",
            "3 / 40\n",
            "Reading page number: 1\n",
            "\n",
            "welding supplies online\n",
            "4 / 40\n",
            "Reading page number: 1\n",
            "\n",
            "welding bench\n",
            "5 / 40\n",
            "Reading page number: 1\n",
            "\n",
            "welder\n",
            "6 / 40\n",
            "Reading page number: 1\n",
            "\n",
            "welding gloves\n",
            "7 / 40\n",
            "Reading page number: 1\n",
            "\n",
            "gas arc\n",
            "8 / 40\n",
            "Reading page number: 1\n",
            "\n",
            "tungsten grinder\n",
            "9 / 40\n",
            "Reading page number: 1\n",
            "\n",
            "welding trousers\n",
            "10 / 40\n",
            "Reading page number: 1\n",
            "\n",
            "wheel welding\n",
            "11 / 40\n",
            "Reading page number: 1\n",
            "\n",
            "welding mask\n",
            "12 / 40\n",
            "Reading page number: 1\n",
            "\n",
            "mig welding\n",
            "13 / 40\n",
            "Reading page number: 1\n",
            "\n",
            "welding rods\n",
            "14 / 40\n",
            "Reading page number: 1\n",
            "\n",
            "p  filter\n",
            "15 / 40\n",
            "Reading page number: 1\n",
            "\n",
            "tig brush\n",
            "16 / 40\n",
            "Reading page number: 1\n",
            "\n",
            "welding curtains\n",
            "17 / 40\n",
            "Reading page number: 1\n",
            "\n",
            "welding goggles\n",
            "18 / 40\n",
            "Reading page number: 1\n",
            "\n",
            "welding tent\n",
            "19 / 40\n",
            "Reading page number: 1\n",
            "\n",
            "welders\n",
            "20 / 40\n",
            "Reading page number: 1\n",
            "\n",
            "welding earth clamp\n",
            "21 / 40\n",
            "Reading page number: 1\n",
            "\n",
            "cutting discs\n",
            "22 / 40\n",
            "Reading page number: 1\n",
            "\n",
            "pipe stands\n",
            "23 / 40\n",
            "Reading page number: 1\n",
            "\n",
            "oxy acetylene\n",
            "24 / 40\n",
            "Reading page number: 1\n",
            "\n",
            "welding ppe\n",
            "25 / 40\n",
            "Reading page number: 1\n",
            "\n",
            "gasarc\n",
            "26 / 40\n",
            "Reading page number: 1\n",
            "\n",
            "fume extraction\n",
            "27 / 40\n",
            "Reading page number: 1\n",
            "\n",
            "gas cutting equipment\n",
            "28 / 40\n",
            "Reading page number: 1\n",
            "\n",
            "welders bench\n",
            "29 / 40\n",
            "Reading page number: 1\n",
            "\n",
            "devcon plastic steel\n",
            "30 / 40\n",
            "Reading page number: 1\n",
            "\n",
            "oxy acetylene welding equipment\n",
            "31 / 40\n",
            "Reading page number: 1\n",
            "\n",
            "welding machines\n",
            "32 / 40\n",
            "Reading page number: 1\n",
            "\n",
            "welding curtain\n",
            "33 / 40\n",
            "Reading page number: 1\n",
            "\n",
            "welding helmets\n",
            "34 / 40\n",
            "Reading page number: 1\n",
            "\n",
            "kemper extraction\n",
            "35 / 40\n",
            "Reading page number: 1\n",
            "\n",
            "oxy acetylene cutting\n",
            "36 / 40\n",
            "Reading page number: 1\n",
            "\n",
            "nevoc regulator\n",
            "37 / 40\n",
            "Reading page number: 1\n",
            "\n",
            "oxy acetylene welding equipment\n",
            "38 / 40\n",
            "Reading page number: 1\n",
            "\n",
            "pipe clamps\n",
            "39 / 40\n",
            "Reading page number: 1\n",
            "\n",
            "welding clamps\n",
            "40 / 40\n",
            "Reading page number: 1\n",
            "\n",
            "Finished!\n"
          ],
          "name": "stdout"
        }
      ]
    },
    {
      "cell_type": "markdown",
      "metadata": {
        "id": "jqZPEPnucwKC"
      },
      "source": [
        "# clean the url variable to be use to filter the right site from the CSE results.\n"
      ]
    },
    {
      "cell_type": "code",
      "metadata": {
        "id": "1nrP6_QDYVqj",
        "colab": {
          "base_uri": "https://localhost:8080/"
        },
        "outputId": "d3897af5-8473-495d-d8d1-d6153a0344e9"
      },
      "source": [
        "# cleans the url variable which holds the search console url. \n",
        "# this is used to drop any sites which do not match it.\n",
        "url = url.replace(\"http://www.\",\"\")\n",
        "url = url.replace(\"https://www.\",\"\")\n",
        "url = url.replace(\"http://\",\"\")\n",
        "url = url.replace(\"https://\",\"\")\n",
        "url = url.replace(\"sc-domain:\",\"\")\n",
        "url = url.rstrip('\\/')  # remove trailing slash\n",
        "print(\"Cleaned the URL to:\", url)"
      ],
      "execution_count": null,
      "outputs": [
        {
          "output_type": "stream",
          "text": [
            "Cleaned the URL to: weldingandwelder.com\n"
          ],
          "name": "stdout"
        }
      ]
    },
    {
      "cell_type": "markdown",
      "metadata": {
        "id": "C-Q0Hqf-bzQE"
      },
      "source": [
        "# Make New Dataframe and Filter the Data"
      ]
    },
    {
      "cell_type": "code",
      "metadata": {
        "id": "bS_6VyfHYVtc",
        "colab": {
          "base_uri": "https://localhost:8080/"
        },
        "outputId": "8a2d29da-ea8f-40f3-964c-a66217e63ba6"
      },
      "source": [
        "#pd.set_option('display.max_columns', None)\n",
        "df_appended_data = pd.concat(list_appended_data)  # make a new dataframe from the appended list\n",
        "print(\"Filtering URLs which match:\", url, \"\\n\")\n",
        "df_appended_data = df_appended_data[df_appended_data['Ranking URL'].str.contains(url)]  # filter out any site that doesn't match the target domain\n",
        "df_appended_data = df_appended_data[~df_appended_data[\"Ranking URL\"].str.contains(\"pdf\", na=False)]  # drop PDF Files\n",
        "df_appended_data.drop_duplicates(subset=\"Search Query\", inplace=True)  # drop duplicate keywords and keep highest ranked URL\n",
        "rows = df_appended_data.shape[0]\n",
        "if rows == 0:\n",
        "  print(\"Empty Dataframe! - Try searching more pages in Google!\")\n",
        "  sys.exit(1)\n",
        "else:\n",
        "  print(df_appended_data)"
      ],
      "execution_count": null,
      "outputs": [
        {
          "output_type": "stream",
          "text": [
            "Filtering URLs which match: weldingandwelder.com \n",
            "\n",
            "                                         Ranking URL  ...                     Search Query\n",
            "0                  https://www.weldingandwelder.com/  ...                          welding\n",
            "0                  https://www.weldingandwelder.com/  ...                welding equipment\n",
            "0                  https://www.weldingandwelder.com/  ...                 welding supplies\n",
            "0                  https://www.weldingandwelder.com/  ...          welding supplies online\n",
            "0  https://www.weldingandwelder.com/category/weld...  ...                    welding bench\n",
            "0                  https://www.weldingandwelder.com/  ...                           welder\n",
            "0  https://www.weldingandwelder.com/category/weld...  ...                   welding gloves\n",
            "0  https://www.weldingandwelder.com/category/regu...  ...                          gas arc\n",
            "0  https://www.weldingandwelder.com/category/weld...  ...                 tungsten grinder\n",
            "0  https://www.weldingandwelder.com/category/weld...  ...                 welding trousers\n",
            "0  https://www.weldingandwelder.com/product/nutri...  ...                    wheel welding\n",
            "0  https://www.weldingandwelder.com/product/monke...  ...                     welding mask\n",
            "0  https://www.weldingandwelder.com/category/weld...  ...                      mig welding\n",
            "0  https://www.weldingandwelder.com/category/weld...  ...                     welding rods\n",
            "0  http://www.weldingandwelder.com/glass-5gw-lens...  ...                        p  filter\n",
            "0  https://www.weldingandwelder.com/product/tig-w...  ...                        tig brush\n",
            "0  https://www.weldingandwelder.com/category/weld...  ...                 welding curtains\n",
            "0  https://www.weldingandwelder.com/category/weld...  ...                  welding goggles\n",
            "0  https://www.weldingandwelder.com/category/weld...  ...                     welding tent\n",
            "0                  https://www.weldingandwelder.com/  ...                          welders\n",
            "0  https://www.weldingandwelder.com/product/earth...  ...              welding earth clamp\n",
            "0  https://www.weldingandwelder.com/category/weld...  ...                    cutting discs\n",
            "0  https://www.weldingandwelder.com/category/pipe...  ...                      pipe stands\n",
            "0  https://www.weldingandwelder.com/category/weld...  ...                    oxy acetylene\n",
            "0  https://www.weldingandwelder.com/category/weld...  ...                      welding ppe\n",
            "0  https://www.weldingandwelder.com/category/regu...  ...                           gasarc\n",
            "0  https://www.weldingandwelder.com/category/weld...  ...                  fume extraction\n",
            "0  https://www.weldingandwelder.com/category/plas...  ...            gas cutting equipment\n",
            "0  https://www.weldingandwelder.com/category/weld...  ...                    welders bench\n",
            "0  https://www.weldingandwelder.com/product/devco...  ...             devcon plastic steel\n",
            "0  https://www.weldingandwelder.com/category/weld...  ...  oxy acetylene welding equipment\n",
            "0  https://www.weldingandwelder.com/spot-welding-...  ...                 welding machines\n",
            "0  https://www.weldingandwelder.com/category/weld...  ...                  welding curtain\n",
            "0  https://www.weldingandwelder.com/category/weld...  ...                  welding helmets\n",
            "0  https://www.weldingandwelder.com/category/weld...  ...                kemper extraction\n",
            "0  https://www.weldingandwelder.com/category/weld...  ...            oxy acetylene cutting\n",
            "0  https://www.weldingandwelder.com/product/ga600...  ...                  nevoc regulator\n",
            "0  https://www.weldingandwelder.com/category/pipe...  ...                      pipe clamps\n",
            "0  https://www.weldingandwelder.com/category/pipe...  ...                   welding clamps\n",
            "\n",
            "[39 rows x 4 columns]\n"
          ],
          "name": "stdout"
        }
      ]
    },
    {
      "cell_type": "markdown",
      "metadata": {
        "id": "DBA5usRDbzK-"
      },
      "source": [
        "# Scrape Live Titles and Metas with Beautiful Soup"
      ]
    },
    {
      "cell_type": "code",
      "metadata": {
        "id": "RIydbEVeYVvP",
        "colab": {
          "base_uri": "https://localhost:8080/"
        },
        "outputId": "41d3a3ac-f3b5-46df-b703-7451c660c9fc"
      },
      "source": [
        "# Grab the page title & meta description to check with beautiful soup\n",
        "link_check = df_appended_data['Ranking URL'].tolist()\n",
        "\n",
        "# make empty placeholder lists to store the results\n",
        "df_bs4_appended_title = []  \n",
        "df_bs4_appended_desc = []\n",
        "\n",
        "# counter to count the remaining titles and meta to scrape\n",
        "scrape_count = 1\n",
        "\n",
        "# loop through URLs and Scrape the Live Page Title and Meta Descriptions\n",
        "for i in link_check:\n",
        "    print(\"\\nScraping Live Page Title and Meta Description\", scrape_count, \"/\", rows)\n",
        "    print(i)\n",
        "    time.sleep(1)\n",
        "    scrape_count = scrape_count + 1\n",
        "    url_bs4 = i\n",
        "    \n",
        "    hdr = {'User-Agent': 'Mozilla/5.0'}\n",
        "    req = Request(url_bs4,headers=hdr)\n",
        "    try:\n",
        "      page = urlopen(req)\n",
        "    except Exception:\n",
        "      print(\"Missing - Nothing to Scrape!\")\n",
        "      pass\n",
        "\n",
        "    soup = BeautifulSoup(page)\n",
        "    title = soup.find('title')\n",
        "    try:\n",
        "      print(title.string)\n",
        "    except Exception:\n",
        "      print(\"Missing - Nothing to Scrape!\")\n",
        "      pass\n",
        "\n",
        "    # extract the meta description\n",
        "    desc = \"\"\n",
        "    for meta in soup.findAll(\"meta\"):\n",
        "        metaname = meta.get('name', '').lower()\n",
        "        metaprop = meta.get('property', '').lower()\n",
        "        if 'description' == metaname or metaprop.find(\"description\") > 0:\n",
        "            desc = meta['content'].strip()\n",
        "\n",
        "    print(desc)\n",
        "\n",
        "    try:\n",
        "      df_bs4_appended_title.append(title.string)\n",
        "    except AttributeError:\n",
        "      df_bs4_appended_title.append(\"Couldn't Scrape!\")\n",
        "      pass\n",
        "    try:\n",
        "      df_bs4_appended_desc.append(desc)\n",
        "    except AttributeError:\n",
        "      df_bs4_appended_desc.append(\"Couldn't Scrape!\")\n",
        "      pass\n",
        "\n",
        "print(\"Finished Scraping Page Titles and Meta Descriptions!\")"
      ],
      "execution_count": null,
      "outputs": [
        {
          "output_type": "stream",
          "text": [
            "\n",
            "Scraping Live Page Title and Meta Description 1 / 39\n",
            "https://www.weldingandwelder.com/\n",
            "Welding Equipment | Welding Supplies | - Welding & Welder\n",
            "Welding equipment for MIG, TIG & MMA welding. Vast range of welding machines, cutting equipment, safety equipment and fume extraction. Welding suppliers online.\n",
            "\n",
            "Scraping Live Page Title and Meta Description 2 / 39\n",
            "https://www.weldingandwelder.com/\n",
            "Welding Equipment | Welding Supplies | - Welding & Welder\n",
            "Welding equipment for MIG, TIG & MMA welding. Vast range of welding machines, cutting equipment, safety equipment and fume extraction. Welding suppliers online.\n",
            "\n",
            "Scraping Live Page Title and Meta Description 3 / 39\n",
            "https://www.weldingandwelder.com/\n",
            "Welding Equipment | Welding Supplies | - Welding & Welder\n",
            "Welding equipment for MIG, TIG & MMA welding. Vast range of welding machines, cutting equipment, safety equipment and fume extraction. Welding suppliers online.\n",
            "\n",
            "Scraping Live Page Title and Meta Description 4 / 39\n",
            "https://www.weldingandwelder.com/\n",
            "Welding Equipment | Welding Supplies | - Welding & Welder\n",
            "Welding equipment for MIG, TIG & MMA welding. Vast range of welding machines, cutting equipment, safety equipment and fume extraction. Welding suppliers online.\n",
            "\n",
            "Scraping Live Page Title and Meta Description 5 / 39\n",
            "https://www.weldingandwelder.com/category/welding-tools-benches/welding-benches-workshop-benches/heavy-duty-welding-benches/welding-benches-steel-top/\n",
            "Welding Benches Steel Top - Welding & Welder\n",
            "\n",
            "\n",
            "Scraping Live Page Title and Meta Description 6 / 39\n",
            "https://www.weldingandwelder.com/\n",
            "Welding Equipment | Welding Supplies | - Welding & Welder\n",
            "Welding equipment for MIG, TIG & MMA welding. Vast range of welding machines, cutting equipment, safety equipment and fume extraction. Welding suppliers online.\n",
            "\n",
            "Scraping Live Page Title and Meta Description 7 / 39\n",
            "https://www.weldingandwelder.com/category/welders-ppe/welding-gloves/\n",
            "Welding Gloves - Welding & Welder\n",
            "\n",
            "\n",
            "Scraping Live Page Title and Meta Description 8 / 39\n",
            "https://www.weldingandwelder.com/category/regulators-manifolds/gas-arc-high-pressure-regulators/\n",
            "Gas Arc High Pressure Regulators - Welding & Welder\n",
            "\n",
            "\n",
            "Scraping Live Page Title and Meta Description 9 / 39\n",
            "https://www.weldingandwelder.com/category/welding-equipment/tig-welding/tungsten-grinders-for-tig/\n",
            "Tungsten Grinders for TIG - Welding & Welder\n",
            "\n",
            "\n",
            "Scraping Live Page Title and Meta Description 10 / 39\n",
            "https://www.weldingandwelder.com/category/welders-ppe/welders-clothing/welders-jackets-welders-trousers/\n",
            "Welders Jackets - Welders Trousers - Welding & Welder\n",
            "\n",
            "\n",
            "Scraping Live Page Title and Meta Description 11 / 39\n",
            "https://www.weldingandwelder.com/product/nutrix-grinding-wheel/\n",
            "Nutrix Grinding Wheel - Welding & Welder\n",
            "\"Neutrix\"  Grinding Wheel\n",
            "\n",
            "Scraping Live Page Title and Meta Description 12 / 39\n",
            "https://www.weldingandwelder.com/product/monkey-mask/\n",
            "Monkey Mask - Welding & Welder\n",
            "Leather Welding Mask Std 30cm (Monkey Mask)\n",
            "\n",
            "Scraping Live Page Title and Meta Description 13 / 39\n",
            "https://www.weldingandwelder.com/category/welding-equipment/mig-welding/\n",
            "MIG Welding - Welding & Welder\n",
            "\n",
            "\n",
            "Scraping Live Page Title and Meta Description 14 / 39\n",
            "https://www.weldingandwelder.com/category/welding-equipment/tig-welding/tig-welding-rods/tig-rods-for-duplex-stainless-steel/\n",
            "TIG Rods for Duplex Stainless Steel - Welding & Welder\n",
            "\n",
            "\n",
            "Scraping Live Page Title and Meta Description 15 / 39\n",
            "http://www.weldingandwelder.com/glass-5gw-lens-pack-p-1023.html\n",
            "Missing - Nothing to Scrape!\n",
            "Missing - Nothing to Scrape!\n",
            "\n",
            "\n",
            "Scraping Live Page Title and Meta Description 16 / 39\n",
            "https://www.weldingandwelder.com/product/tig-wand-tig-torch-adaptor-brush/\n",
            "Tig Wand Tig Torch Adaptor Brush - Welding & Welder\n",
            "Tig Wand Spare Brush for DC Weld Cleaning Pack of 5 Extremely Fast Stainless Steel Weld Finishing CONNECTS DIRECTLY TO A DC TIG WELDING UNIT USING THE\n",
            "\n",
            "Scraping Live Page Title and Meta Description 17 / 39\n",
            "https://www.weldingandwelder.com/category/welders-ppe/welding-screens-welding-curtains/\n",
            "Welding Screens & Curtains - Welding & Welder\n",
            "\n",
            "\n",
            "Scraping Live Page Title and Meta Description 18 / 39\n",
            "https://www.weldingandwelder.com/category/welders-ppe/welding-goggles-welding-spectacles/\n",
            "Welding Goggles & Spectacles - Welding & Welder\n",
            "\n",
            "\n",
            "Scraping Live Page Title and Meta Description 19 / 39\n",
            "https://www.weldingandwelder.com/category/welders-ppe/welding-tents-work-shelters/\n",
            "Welding Tents & Work Shelters - Welding & Welder\n",
            "\n",
            "\n",
            "Scraping Live Page Title and Meta Description 20 / 39\n",
            "https://www.weldingandwelder.com/\n",
            "Welding Equipment | Welding Supplies | - Welding & Welder\n",
            "Welding equipment for MIG, TIG & MMA welding. Vast range of welding machines, cutting equipment, safety equipment and fume extraction. Welding suppliers online.\n",
            "\n",
            "Scraping Live Page Title and Meta Description 21 / 39\n",
            "https://www.weldingandwelder.com/product/earth-clamp-nevada-type-500a/\n",
            "Earth Clamp Nevada Type 500A - Welding & Welder\n",
            "Earth Clamp \"Nevada\" Style 500 amps Characteristics: Solid, rugged, design Strong spring jaws A full range of current sizes is available Including the popular\n",
            "\n",
            "Scraping Live Page Title and Meta Description 22 / 39\n",
            "https://www.weldingandwelder.com/category/welding-tools-benches/angle-grinder-discs/cutting-discs/\n",
            "Cutting Discs - Welding & Welder\n",
            "\n",
            "\n",
            "Scraping Live Page Title and Meta Description 23 / 39\n",
            "https://www.weldingandwelder.com/category/pipe-stands-pipe-clamps/pipe-stands/\n",
            "Pipe Stands - Welding & Welder\n",
            "\n",
            "\n",
            "Scraping Live Page Title and Meta Description 24 / 39\n",
            "https://www.weldingandwelder.com/category/welding-equipment/oxy-acetylene-cutting-welding/\n",
            "Oxy-Acetylene Cutting & Welding - Welding & Welder\n",
            "\n",
            "\n",
            "Scraping Live Page Title and Meta Description 25 / 39\n",
            "https://www.weldingandwelder.com/category/welders-ppe/\n",
            "Welders PPE - Welding & Welder\n",
            "\n",
            "\n",
            "Scraping Live Page Title and Meta Description 26 / 39\n",
            "https://www.weldingandwelder.com/category/regulators-manifolds/gas-arc-high-pressure-regulators/\n",
            "Gas Arc High Pressure Regulators - Welding & Welder\n",
            "\n",
            "\n",
            "Scraping Live Page Title and Meta Description 27 / 39\n",
            "https://www.weldingandwelder.com/category/welding-fume-extraction/kemper-fume-extraction-equipment/kemper-mobile-fume-extraction/\n",
            "Kemper Mobile Fume Extraction - Welding & Welder\n",
            "\n",
            "\n",
            "Scraping Live Page Title and Meta Description 28 / 39\n",
            "https://www.weldingandwelder.com/category/plasma-cutters-gas-cutting/oxy-fuel-gas-cutting-machines/\n",
            "Oxy-Fuel Gas Cutting Machines - Welding & Welder\n",
            "\n",
            "\n",
            "Scraping Live Page Title and Meta Description 29 / 39\n",
            "https://www.weldingandwelder.com/category/welding-tools-benches/welding-benches-workshop-benches/heavy-duty-welding-benches/\n",
            "Heavy Duty Welding Benches - Welding & Welder\n",
            "\n",
            "\n",
            "Scraping Live Page Title and Meta Description 30 / 39\n",
            "https://www.weldingandwelder.com/product/devcon-plastic-steel-a-500g/\n",
            "Devcon Plastic Steel \"A\" 500g - Welding & Welder\n",
            "PLASTIC STEEL PUTTY (A) x 500grams\n",
            "\n",
            "Scraping Live Page Title and Meta Description 31 / 39\n",
            "https://www.weldingandwelder.com/category/welding-equipment/oxy-acetylene-cutting-welding/\n",
            "Oxy-Acetylene Cutting & Welding - Welding & Welder\n",
            "\n",
            "\n",
            "Scraping Live Page Title and Meta Description 32 / 39\n",
            "https://www.weldingandwelder.com/spot-welding-equipment-spot-welding-machines-c-206_74_83.html\n",
            "Missing - Nothing to Scrape!\n",
            "Missing - Nothing to Scrape!\n",
            "\n",
            "\n",
            "Scraping Live Page Title and Meta Description 33 / 39\n",
            "https://www.weldingandwelder.com/category/welders-ppe/welding-screens-welding-curtains/\n",
            "Welding Screens & Curtains - Welding & Welder\n",
            "\n",
            "\n",
            "Scraping Live Page Title and Meta Description 34 / 39\n",
            "https://www.weldingandwelder.com/category/welding-helmets/welding-helmets-fume-extract/\n",
            "Welding Helmets - Fume Extract - Welding & Welder\n",
            "\n",
            "\n",
            "Scraping Live Page Title and Meta Description 35 / 39\n",
            "https://www.weldingandwelder.com/category/welding-fume-extraction/kemper-fume-extraction-equipment/kemper-mobile-fume-extraction/\n",
            "Kemper Mobile Fume Extraction - Welding & Welder\n",
            "\n",
            "\n",
            "Scraping Live Page Title and Meta Description 36 / 39\n",
            "https://www.weldingandwelder.com/category/welding-equipment/oxy-acetylene-cutting-welding/\n",
            "Oxy-Acetylene Cutting & Welding - Welding & Welder\n",
            "\n",
            "\n",
            "Scraping Live Page Title and Meta Description 37 / 39\n",
            "https://www.weldingandwelder.com/product/ga600-high-pressure-inert-gas-manifold-regulator-ran07016-nevoc/\n",
            "GA600 High Pressure Inert Gas Manifold Regulator RAN07016 Nevoc - Welding & Welder\n",
            "The Tech-Master GA 600 High Pressure / High Flow multi-stage regulator is a high peformance product capable of the largest flowrate in its class. The\n",
            "\n",
            "Scraping Live Page Title and Meta Description 38 / 39\n",
            "https://www.weldingandwelder.com/category/pipe-stands-pipe-clamps/pipe-welding-clamps/\n",
            "Pipe Welding Clamps - Welding & Welder\n",
            "\n",
            "\n",
            "Scraping Live Page Title and Meta Description 39 / 39\n",
            "https://www.weldingandwelder.com/category/pipe-stands-pipe-clamps/pipe-welding-clamps/\n",
            "Pipe Welding Clamps - Welding & Welder\n",
            "\n",
            "Finished Scraping Page Titles and Meta Descriptions!\n"
          ],
          "name": "stdout"
        }
      ]
    },
    {
      "cell_type": "markdown",
      "metadata": {
        "id": "oYdPAHUXbzGU"
      },
      "source": [
        "# Make, Clean & Export the Final Dataframe + Merge GSC Data Back In\n",
        "\n",
        "---\n",
        "\n"
      ]
    },
    {
      "cell_type": "code",
      "metadata": {
        "id": "mmV1HCXXYVxT",
        "colab": {
          "base_uri": "https://localhost:8080/",
          "height": 807
        },
        "outputId": "6e8d2f4d-3154-4e92-d814-1adbb05441ec"
      },
      "source": [
        "# create new columns for the page title and meta description and populate\n",
        "df_appended_data['Live Page Title'] = df_bs4_appended_title\n",
        "df_appended_data['Live Meta Description'] = df_bs4_appended_desc\n",
        "\n",
        "# check if keywords found in the live page title / meta description\n",
        "df_appended_data[\"Live Page Title Lower\"] = df_appended_data[\"Live Page Title\"].str.lower()  \n",
        "df_appended_data[\"Live Meta Description Lower\"] = df_appended_data[\"Live Meta Description\"].str.lower()\n",
        "\n",
        "df_appended_data[\"KW in Title?\"] = df_appended_data.apply(lambda row: row[\"Search Query\"] in row[\"Live Page Title Lower\"], axis=1)\n",
        "df_appended_data[\"KW in Meta Description?\"] = df_appended_data.apply(lambda row: row[\"Search Query\"] in row[\"Live Meta Description Lower\"], axis=1) \n",
        "\n",
        "# make new dataframe to merge the impression data back in\n",
        "df_impressions = df_gsc_data[['query', 'impressions', 'clicks']]\n",
        "df_appended_data = pd.merge(df_appended_data, df_impressions, left_on=\"Search Query\", right_on=\"query\", how=\"left\")  # merge impression data back in\n",
        "\n",
        "# rename the impression and clicks columns\n",
        "df_appended_data.rename(columns={\"impressions\": \"Impressions\", \"clicks\": \"Clicks\"}, inplace=True)\n",
        "\n",
        "# set the new column order\n",
        "cols = [\n",
        "    \"Search Query\",\n",
        "    \"Impressions\",\n",
        "    \"Clicks\",\n",
        "    \"Ranking URL\",\n",
        "    \"Live Page Title\",\n",
        "    \"SERP Page Title\",\n",
        "    \"Live Meta Description\",\n",
        "    \"SERP Snippet\",\n",
        "    \"Title Match?\",\n",
        "    \"Meta Match?\",\n",
        "    \"KW in Title?\",\n",
        "    \"KW in Meta Description?\"\n",
        "]\n",
        "\n",
        "# reindex the new column order\n",
        "df_appended_data = df_appended_data.reindex(columns=cols)\n",
        "\n",
        "# drop duplicate Rows\n",
        "df_appended_data.drop_duplicates(subset=\"Search Query\", inplace=True)\n",
        "\n",
        "# Compare Live Site Data to SERP Data and Return True / False in a new column\n",
        "df_appended_data['Title Match?'] = df_appended_data['SERP Page Title'] == df_appended_data['Live Page Title']\n",
        "df_appended_data['Meta Match?'] = df_appended_data['SERP Snippet'] == df_appended_data['Live Meta Description']\n",
        "\n",
        "# print the dataframe\n",
        "print(df_appended_data)\n",
        "\n",
        "# make the final export\n",
        "df_appended_data.to_csv('serps-vs-live-metas.csv', index=False)\n",
        "files.download('serps-vs-live-metas.csv')\n",
        "print(\"Downloaded the CSV!\")"
      ],
      "execution_count": null,
      "outputs": [
        {
          "output_type": "stream",
          "text": [
            "                       Search Query  ...  KW in Meta Description?\n",
            "0                           welding  ...                     True\n",
            "1                 welding equipment  ...                     True\n",
            "2                  welding supplies  ...                    False\n",
            "3           welding supplies online  ...                    False\n",
            "4                     welding bench  ...                    False\n",
            "5                            welder  ...                    False\n",
            "6                    welding gloves  ...                    False\n",
            "7                           gas arc  ...                    False\n",
            "8                  tungsten grinder  ...                    False\n",
            "9                  welding trousers  ...                    False\n",
            "10                    wheel welding  ...                    False\n",
            "11                     welding mask  ...                     True\n",
            "12                      mig welding  ...                    False\n",
            "13                     welding rods  ...                    False\n",
            "14                        p  filter  ...                    False\n",
            "15                        tig brush  ...                    False\n",
            "16                 welding curtains  ...                    False\n",
            "17                  welding goggles  ...                    False\n",
            "18                     welding tent  ...                    False\n",
            "19                          welders  ...                    False\n",
            "20              welding earth clamp  ...                    False\n",
            "21                    cutting discs  ...                    False\n",
            "22                      pipe stands  ...                    False\n",
            "23                    oxy acetylene  ...                    False\n",
            "24                      welding ppe  ...                    False\n",
            "25                           gasarc  ...                    False\n",
            "26                  fume extraction  ...                    False\n",
            "27            gas cutting equipment  ...                    False\n",
            "28                    welders bench  ...                    False\n",
            "29             devcon plastic steel  ...                    False\n",
            "30  oxy acetylene welding equipment  ...                    False\n",
            "32                 welding machines  ...                    False\n",
            "33                  welding curtain  ...                    False\n",
            "34                  welding helmets  ...                    False\n",
            "35                kemper extraction  ...                    False\n",
            "36            oxy acetylene cutting  ...                    False\n",
            "37                  nevoc regulator  ...                    False\n",
            "38                      pipe clamps  ...                    False\n",
            "39                   welding clamps  ...                    False\n",
            "\n",
            "[39 rows x 12 columns]\n"
          ],
          "name": "stdout"
        },
        {
          "output_type": "display_data",
          "data": {
            "application/javascript": [
              "\n",
              "    async function download(id, filename, size) {\n",
              "      if (!google.colab.kernel.accessAllowed) {\n",
              "        return;\n",
              "      }\n",
              "      const div = document.createElement('div');\n",
              "      const label = document.createElement('label');\n",
              "      label.textContent = `Downloading \"${filename}\": `;\n",
              "      div.appendChild(label);\n",
              "      const progress = document.createElement('progress');\n",
              "      progress.max = size;\n",
              "      div.appendChild(progress);\n",
              "      document.body.appendChild(div);\n",
              "\n",
              "      const buffers = [];\n",
              "      let downloaded = 0;\n",
              "\n",
              "      const channel = await google.colab.kernel.comms.open(id);\n",
              "      // Send a message to notify the kernel that we're ready.\n",
              "      channel.send({})\n",
              "\n",
              "      for await (const message of channel.messages) {\n",
              "        // Send a message to notify the kernel that we're ready.\n",
              "        channel.send({})\n",
              "        if (message.buffers) {\n",
              "          for (const buffer of message.buffers) {\n",
              "            buffers.push(buffer);\n",
              "            downloaded += buffer.byteLength;\n",
              "            progress.value = downloaded;\n",
              "          }\n",
              "        }\n",
              "      }\n",
              "      const blob = new Blob(buffers, {type: 'application/binary'});\n",
              "      const a = document.createElement('a');\n",
              "      a.href = window.URL.createObjectURL(blob);\n",
              "      a.download = filename;\n",
              "      div.appendChild(a);\n",
              "      a.click();\n",
              "      div.remove();\n",
              "    }\n",
              "  "
            ],
            "text/plain": [
              "<IPython.core.display.Javascript object>"
            ]
          },
          "metadata": {
            "tags": []
          }
        },
        {
          "output_type": "display_data",
          "data": {
            "application/javascript": [
              "download(\"download_8f31017d-f7b0-443e-ad77-1a14a8655b61\", \"serps-vs-live-metas.csv\", 16250)"
            ],
            "text/plain": [
              "<IPython.core.display.Javascript object>"
            ]
          },
          "metadata": {
            "tags": []
          }
        },
        {
          "output_type": "stream",
          "text": [
            "Downloaded the CSV!\n"
          ],
          "name": "stdout"
        }
      ]
    },
    {
      "cell_type": "markdown",
      "metadata": {
        "id": "wY-03ocrbzBT"
      },
      "source": [
        "# Possible Remedial Strategies\n",
        "\n",
        "# Data-NoSnippet\n",
        "1.  Use *data-nosnippet* if they're pulling in content from footer / header etc\n",
        "\n",
        "# Add Missing Keywords\n",
        "1. Insert any missing keywords to the page title & meta descriptions\n",
        "\n",
        "# Steering Content\n",
        "1.  Add a custom meta description\n",
        "2.  Write the first line of content on the page as a second choice meta description\n",
        "3. add data-nosnippet to boiler plate content\n",
        "\n",
        "Data-nosnippet: https://developers.google.com/search/docs/advanced/robots/robots_meta_tag#data-nosnippet-attr\n"
      ]
    },
    {
      "cell_type": "markdown",
      "metadata": {
        "id": "BK-0TpN-by6k"
      },
      "source": [
        "# Other Ideas\n",
        "1.  Train an AI model https://www.searchenginejournal.com/automated-title-tag-optimization-using-deep-learning/390207/\n",
        "2.  Use Polyfuzz / Fuzzywuzzy library to see how similar / different titles and metas are\n",
        "3.  Modify it to use a 3rd party API instead of CSE API. (Data for SEO / ZenSERP etc for more accurate SERP data) - (3rd party APIs can give enhanced information such a snippets or sitelinks). \n"
      ]
    },
    {
      "cell_type": "markdown",
      "metadata": {
        "id": "2WvTDIu0SPMO"
      },
      "source": [
        "# Resources:\n",
        "\n",
        "**Data Blend Your Way to SEO Success:** https://www.youtube.com/watch?v=qB6-iWevbRg by @GregBernhardt4\n",
        "\n",
        "**Data-no-snippet:** https://developers.google.com/search/docs/advanced/robots/robots_meta_tag#data-nosnippet-attr \n",
        "\n",
        "**Accessing Nested Dictionary Keys with Python:** https://www.youtube.com/watch?v=oQfNYqz8pLs&t=502s\n",
        "\n",
        "**Access Search Console Data via Python:** https://colab.research.google.com/github/msure/notebooks/blob/master/_notebooks/2020-05-17-google-search-console-via-python.ipynb\n"
      ]
    }
  ]
}