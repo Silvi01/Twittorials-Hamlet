#installs

!pip install --upgrade google-cloud-vision
!pip install --upgrade google-cloud
!pip install --upgrade google-auth

#Upload credential file - to get, download from Google Cloud
from google.colab import files
files.upload()

#imports
from google.cloud import vision
import requests 
from bs4 import BeautifulSoup 
import os
import io
from pydrive.auth import GoogleAuth
from pydrive.drive import GoogleDrive
from google.colab import auth
from google.cloud import vision
from oauth2client.client import GoogleCredentials
from __future__ import print_function
from os import mkdir

# Imports Credential File:
credential_path = "neon-water-309120-50de07e05887.json"
os.environ['GOOGLE_APPLICATION_CREDENTIALS'] = credential_path
print("Service Account Key: {}".format(os.environ["GOOGLE_APPLICATION_CREDENTIALS"]))

#
from google.colab import drive 
drive.mount('/content/drive')

# get data from page we're going to get images from
htmldata = requests.get("https://jessbpeck.com/posts/enemytools/").text 
soup = BeautifulSoup(htmldata, 'html.parser') 
image_list = soup.find_all('img')
for img in image_list:
  print('https://jessbpeck.com' + img['src'])


#for image in list, get vision API data (limit 10)

for img in image_list[:10]:

# Instantiates a client
  client = vision.ImageAnnotatorClient()
  
# The name of the image file to annotate
  url_base = 'https://jessbpeck.com'
  img_location=img['src']

  image_uri  = url_base + img_location

  client = vision.ImageAnnotatorClient()
  image = vision.Image()
  image.source.image_uri = image_uri

  r = requests.get(image_uri, stream=True)

# Performs label detection on the image file if file is 200 + prints out results
  response = client.label_detection(image=image)
  labels = response.label_annotations
  
  if r.status_code == 200: 
    print('Labels and Confidence for ' + image_uri)
    print('=' * 30)
    for label in labels:
       print(label.description, '(%.2f%%)' % (label.score*100.))